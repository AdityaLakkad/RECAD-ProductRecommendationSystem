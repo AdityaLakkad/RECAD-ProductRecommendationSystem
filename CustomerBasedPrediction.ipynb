{
 "cells": [
  {
   "cell_type": "code",
   "execution_count": 1,
   "id": "greek-sullivan",
   "metadata": {},
   "outputs": [
    {
     "name": "stdout",
     "output_type": "stream",
     "text": [
      "Checking whether there is an H2O instance running at http://localhost:54321 ..... not found.\n",
      "Attempting to start a local H2O server...\n",
      "; Java HotSpot(TM) 64-Bit Server VM (build 25.311-b11, mixed mode)\n",
      "  Starting server from C:\\Users\\Aditya\\AppData\\Local\\Programs\\Python\\Python39\\Lib\\site-packages\\h2o\\backend\\bin\\h2o.jar\n",
      "  Ice root: C:\\Users\\Aditya\\AppData\\Local\\Temp\\tmpqngfi9rg\n",
      "  JVM stdout: C:\\Users\\Aditya\\AppData\\Local\\Temp\\tmpqngfi9rg\\h2o_Aditya_started_from_python.out\n",
      "  JVM stderr: C:\\Users\\Aditya\\AppData\\Local\\Temp\\tmpqngfi9rg\\h2o_Aditya_started_from_python.err\n",
      "  Server is running at http://127.0.0.1:54321\n",
      "Connecting to H2O server at http://127.0.0.1:54321 ... successful.\n"
     ]
    },
    {
     "data": {
      "text/html": [
       "<div style=\"overflow:auto\"><table style=\"width:50%\"><tr><td>H2O_cluster_uptime:</td>\n",
       "<td>07 secs</td></tr>\n",
       "<tr><td>H2O_cluster_timezone:</td>\n",
       "<td>Asia/Kolkata</td></tr>\n",
       "<tr><td>H2O_data_parsing_timezone:</td>\n",
       "<td>UTC</td></tr>\n",
       "<tr><td>H2O_cluster_version:</td>\n",
       "<td>3.34.0.3</td></tr>\n",
       "<tr><td>H2O_cluster_version_age:</td>\n",
       "<td>14 days, 23 hours and 58 minutes </td></tr>\n",
       "<tr><td>H2O_cluster_name:</td>\n",
       "<td>H2O_from_python_Aditya_jmh0jm</td></tr>\n",
       "<tr><td>H2O_cluster_total_nodes:</td>\n",
       "<td>1</td></tr>\n",
       "<tr><td>H2O_cluster_free_memory:</td>\n",
       "<td>1.746 Gb</td></tr>\n",
       "<tr><td>H2O_cluster_total_cores:</td>\n",
       "<td>4</td></tr>\n",
       "<tr><td>H2O_cluster_allowed_cores:</td>\n",
       "<td>4</td></tr>\n",
       "<tr><td>H2O_cluster_status:</td>\n",
       "<td>locked, healthy</td></tr>\n",
       "<tr><td>H2O_connection_url:</td>\n",
       "<td>http://127.0.0.1:54321</td></tr>\n",
       "<tr><td>H2O_connection_proxy:</td>\n",
       "<td>{\"http\": null, \"https\": null}</td></tr>\n",
       "<tr><td>H2O_internal_security:</td>\n",
       "<td>False</td></tr>\n",
       "<tr><td>H2O_API_Extensions:</td>\n",
       "<td>Amazon S3, Algos, AutoML, Core V3, TargetEncoder, Core V4</td></tr>\n",
       "<tr><td>Python_version:</td>\n",
       "<td>3.9.1 final</td></tr></table></div>"
      ],
      "text/plain": [
       "--------------------------  ---------------------------------------------------------\n",
       "H2O_cluster_uptime:         07 secs\n",
       "H2O_cluster_timezone:       Asia/Kolkata\n",
       "H2O_data_parsing_timezone:  UTC\n",
       "H2O_cluster_version:        3.34.0.3\n",
       "H2O_cluster_version_age:    14 days, 23 hours and 58 minutes\n",
       "H2O_cluster_name:           H2O_from_python_Aditya_jmh0jm\n",
       "H2O_cluster_total_nodes:    1\n",
       "H2O_cluster_free_memory:    1.746 Gb\n",
       "H2O_cluster_total_cores:    4\n",
       "H2O_cluster_allowed_cores:  4\n",
       "H2O_cluster_status:         locked, healthy\n",
       "H2O_connection_url:         http://127.0.0.1:54321\n",
       "H2O_connection_proxy:       {\"http\": null, \"https\": null}\n",
       "H2O_internal_security:      False\n",
       "H2O_API_Extensions:         Amazon S3, Algos, AutoML, Core V3, TargetEncoder, Core V4\n",
       "Python_version:             3.9.1 final\n",
       "--------------------------  ---------------------------------------------------------"
      ]
     },
     "metadata": {},
     "output_type": "display_data"
    }
   ],
   "source": [
    "import pandas as pd\n",
    "import h2o\n",
    "from h2o.automl import H2OAutoML\n",
    "h2o.init()"
   ]
  },
  {
   "cell_type": "code",
   "execution_count": 15,
   "id": "applied-coaching",
   "metadata": {},
   "outputs": [
    {
     "name": "stdout",
     "output_type": "stream",
     "text": [
      "Parse progress: |████████████████████████████████████████████████████████████████| (done) 100%\n",
      "stackedensemble prediction progress: |███████████████████████████████████████████| (done) 100%\n"
     ]
    }
   ],
   "source": [
    "Model_Wipes = h2o.load_model('E:\\\\tmp\\\\mymodel\\\\StackedEnsemble_AllModels_5_AutoML_6_20211020_170123')\n",
    "l = {'GenderCode': 'Mrs.', 'POSTAL_CODE': '68298', 'AGE': '27', 'CREDITCARD_TYPE': 'JCB', 'GENERATION': 'Gen_Y'}\n",
    "#d = h2o.H2OFrame(l,column_names=['GenderCode','POSTAL_CODE','AGE','CREDITCARD_TYPE','GENERATION'])\n",
    "d = h2o.H2OFrame(l)\n",
    "x = Model_Wipes.predict(d)"
   ]
  },
  {
   "cell_type": "code",
   "execution_count": 32,
   "id": "arbitrary-atlantic",
   "metadata": {},
   "outputs": [
    {
     "data": {
      "text/plain": [
       "0.0"
      ]
     },
     "execution_count": 32,
     "metadata": {},
     "output_type": "execute_result"
    }
   ],
   "source": [
    "y = x.as_data_frame()\n",
    "y.iloc[0][0]"
   ]
  },
  {
   "cell_type": "code",
   "execution_count": 2,
   "id": "tight-warrant",
   "metadata": {},
   "outputs": [
    {
     "name": "stdout",
     "output_type": "stream",
     "text": [
      "Parse progress: |████████████████████████████████████████████████████████████████| (done) 100%\n"
     ]
    }
   ],
   "source": [
    "df = h2o.import_file(\"order_transactions.csv\")\n",
    "data = pd.read_csv(\"order_transactions.csv\")"
   ]
  },
  {
   "cell_type": "code",
   "execution_count": 1,
   "id": "economic-tissue",
   "metadata": {},
   "outputs": [],
   "source": [
    "product_list = ['Baby Food', 'Diapers', 'Formula', 'Lotion', 'Baby wash', 'Wipes', 'Fresh Fruits', 'Fresh Vegetables', 'Beer', 'Wine', 'Club Soda', 'Sports Drink', 'Chips', 'Popcorn', 'Oatmeal', 'Medicines', 'Canned Foods', 'Cigarettes', 'Cheese', 'Cleaning Products', 'Condiments', 'Frozen Foods', 'Kitchen Items', 'Meat', 'Office Supplies', 'Personal Care', 'Pet Supplies', 'Sea Food','Spices']"
   ]
  },
  {
   "cell_type": "code",
   "execution_count": 6,
   "id": "destroyed-seeker",
   "metadata": {},
   "outputs": [
    {
     "data": {
      "text/html": [
       "<table>\n",
       "<thead>\n",
       "<tr><th>CUSTNAME       </th><th>GenderCode  </th><th>ADDRESS1                       </th><th>CITY      </th><th>STATE  </th><th>COUNTRY_CODE  </th><th style=\"text-align: right;\">  POSTAL_CODE</th><th style=\"text-align: right;\">  POSTAL_CODE_PLUS4</th><th style=\"text-align: right;\">  ADDRESS2</th><th>EMAIL_ADDRESS                 </th><th>PHONE_NUMBER  </th><th>CREDITCARD_TYPE  </th><th style=\"text-align: right;\">  LOCALITY</th><th>SALESMAN_ID  </th><th>NATIONALITY  </th><th style=\"text-align: right;\">  NATIONAL_ID</th><th style=\"text-align: right;\">  CREDITCARD_NUMBER</th><th style=\"text-align: right;\">  DRIVER_LICENSE</th><th style=\"text-align: right;\">  CUST_ID</th><th style=\"text-align: right;\">  ORDER_ID</th><th>ORDER_DATE         </th><th>ORDER_TIME         </th><th style=\"text-align: right;\">  FREIGHT_CHARGES</th><th>ORDER_SALESMAN  </th><th>ORDER_POSTED_DATE  </th><th>ORDER_SHIP_DATE  </th><th style=\"text-align: right;\">  AGE</th><th style=\"text-align: right;\">  ORDER_VALUE</th><th>T_TYPE   </th><th>PURCHASE_TOUCHPOINT  </th><th>PURCHASE_STATUS  </th><th>ORDER_TYPE  </th><th>GENERATION  </th><th style=\"text-align: right;\">  Baby Food</th><th style=\"text-align: right;\">  Diapers</th><th style=\"text-align: right;\">  Formula</th><th style=\"text-align: right;\">  Lotion</th><th style=\"text-align: right;\">  Baby wash</th><th style=\"text-align: right;\">  Wipes</th><th style=\"text-align: right;\">  Fresh Fruits</th><th style=\"text-align: right;\">  Fresh Vegetables</th><th style=\"text-align: right;\">  Beer</th><th style=\"text-align: right;\">  Wine</th><th style=\"text-align: right;\">  Club Soda</th><th style=\"text-align: right;\">  Sports Drink</th><th style=\"text-align: right;\">  Chips</th><th style=\"text-align: right;\">  Popcorn</th><th style=\"text-align: right;\">  Oatmeal</th><th style=\"text-align: right;\">  Medicines</th><th style=\"text-align: right;\">  Canned Foods</th><th style=\"text-align: right;\">  Cigarettes</th><th style=\"text-align: right;\">  Cheese</th><th style=\"text-align: right;\">  Cleaning Products</th><th style=\"text-align: right;\">  Condiments</th><th style=\"text-align: right;\">  Frozen Foods</th><th style=\"text-align: right;\">  Kitchen Items</th><th style=\"text-align: right;\">  Meat</th><th style=\"text-align: right;\">  Office Supplies</th><th style=\"text-align: right;\">  Personal Care</th><th style=\"text-align: right;\">  Pet Supplies</th><th style=\"text-align: right;\">  Sea Food</th><th style=\"text-align: right;\">  Spices</th></tr>\n",
       "</thead>\n",
       "<tbody>\n",
       "<tr><td>Allen Perl     </td><td>Mr.         </td><td>4707    Hillcrest Lane         </td><td>Abeto     </td><td>PG     </td><td>IT            </td><td style=\"text-align: right;\">         6040</td><td style=\"text-align: right;\">                  0</td><td style=\"text-align: right;\">       nan</td><td>Allen.M.Perl@spambob.com      </td><td>0370 4762239  </td><td>Master Card      </td><td style=\"text-align: right;\">       nan</td><td>RP385        </td><td>U.S.         </td><td style=\"text-align: right;\">  2.28679e+07</td><td style=\"text-align: right;\">        5.17976e+15</td><td style=\"text-align: right;\">             nan</td><td style=\"text-align: right;\">    10003</td><td style=\"text-align: right;\">      1106</td><td>2016-06-23 00:00:00</td><td>2016-06-23 15:29:06</td><td style=\"text-align: right;\">            29.79</td><td>NC298           </td><td>2016-07-15 00:00:00</td><td>27/07/2016       </td><td style=\"text-align: right;\">   27</td><td style=\"text-align: right;\">      134.24 </td><td>Complete </td><td>Phone                </td><td>Frequent         </td><td>MediumValue </td><td>Gen_Y       </td><td style=\"text-align: right;\">          0</td><td style=\"text-align: right;\">        0</td><td style=\"text-align: right;\">        1</td><td style=\"text-align: right;\">       1</td><td style=\"text-align: right;\">          0</td><td style=\"text-align: right;\">      0</td><td style=\"text-align: right;\">             0</td><td style=\"text-align: right;\">                 0</td><td style=\"text-align: right;\">     0</td><td style=\"text-align: right;\">     0</td><td style=\"text-align: right;\">          0</td><td style=\"text-align: right;\">             0</td><td style=\"text-align: right;\">      0</td><td style=\"text-align: right;\">        0</td><td style=\"text-align: right;\">        1</td><td style=\"text-align: right;\">          0</td><td style=\"text-align: right;\">             0</td><td style=\"text-align: right;\">           0</td><td style=\"text-align: right;\">       0</td><td style=\"text-align: right;\">                  0</td><td style=\"text-align: right;\">           1</td><td style=\"text-align: right;\">             0</td><td style=\"text-align: right;\">              0</td><td style=\"text-align: right;\">     0</td><td style=\"text-align: right;\">                0</td><td style=\"text-align: right;\">              0</td><td style=\"text-align: right;\">             0</td><td style=\"text-align: right;\">         0</td><td style=\"text-align: right;\">       0</td></tr>\n",
       "<tr><td>Allen Perl     </td><td>Mr.         </td><td>4707    Hillcrest Lane         </td><td>Abeto     </td><td>PG     </td><td>IT            </td><td style=\"text-align: right;\">         6040</td><td style=\"text-align: right;\">                  0</td><td style=\"text-align: right;\">       nan</td><td>Allen.M.Perl@spambob.com      </td><td>0370 4762239  </td><td>Master Card      </td><td style=\"text-align: right;\">       nan</td><td>RP385        </td><td>U.S.         </td><td style=\"text-align: right;\">  2.28679e+07</td><td style=\"text-align: right;\">        5.1518e+15 </td><td style=\"text-align: right;\">             nan</td><td style=\"text-align: right;\">    10003</td><td style=\"text-align: right;\">      2948</td><td>2016-01-08 00:00:00</td><td>2016-01-08 03:13:54</td><td style=\"text-align: right;\">            17.87</td><td>SW277           </td><td>2016-02-20 00:00:00</td><td>27/03/2016       </td><td style=\"text-align: right;\">   27</td><td style=\"text-align: right;\">       53.4  </td><td>Abandoned</td><td>Phone                </td><td>Frequent         </td><td>MediumValue </td><td>Gen_Y       </td><td style=\"text-align: right;\">          0</td><td style=\"text-align: right;\">        0</td><td style=\"text-align: right;\">        1</td><td style=\"text-align: right;\">       0</td><td style=\"text-align: right;\">          1</td><td style=\"text-align: right;\">      0</td><td style=\"text-align: right;\">             0</td><td style=\"text-align: right;\">                 1</td><td style=\"text-align: right;\">     0</td><td style=\"text-align: right;\">     0</td><td style=\"text-align: right;\">          0</td><td style=\"text-align: right;\">             0</td><td style=\"text-align: right;\">      0</td><td style=\"text-align: right;\">        0</td><td style=\"text-align: right;\">        0</td><td style=\"text-align: right;\">          0</td><td style=\"text-align: right;\">             0</td><td style=\"text-align: right;\">           0</td><td style=\"text-align: right;\">       0</td><td style=\"text-align: right;\">                  1</td><td style=\"text-align: right;\">           0</td><td style=\"text-align: right;\">             0</td><td style=\"text-align: right;\">              0</td><td style=\"text-align: right;\">     0</td><td style=\"text-align: right;\">                0</td><td style=\"text-align: right;\">              0</td><td style=\"text-align: right;\">             0</td><td style=\"text-align: right;\">         0</td><td style=\"text-align: right;\">       0</td></tr>\n",
       "<tr><td>Allen Perl     </td><td>Mr.         </td><td>4707    Hillcrest Lane         </td><td>Abeto     </td><td>PG     </td><td>IT            </td><td style=\"text-align: right;\">         6040</td><td style=\"text-align: right;\">                  0</td><td style=\"text-align: right;\">       nan</td><td>Allen.M.Perl@spambob.com      </td><td>0370 4762239  </td><td>Master Card      </td><td style=\"text-align: right;\">       nan</td><td>RP385        </td><td>U.S.         </td><td style=\"text-align: right;\">  2.28679e+07</td><td style=\"text-align: right;\">        5.17217e+15</td><td style=\"text-align: right;\">             nan</td><td style=\"text-align: right;\">    10003</td><td style=\"text-align: right;\">      3323</td><td>2016-08-25 00:00:00</td><td>2016-08-25 16:39:06</td><td style=\"text-align: right;\">            31.88</td><td>NC160           </td><td>2016-09-19 00:00:00</td><td>27/09/2016       </td><td style=\"text-align: right;\">   27</td><td style=\"text-align: right;\">       26.25 </td><td>Complete </td><td>Desktop              </td><td>Frequent         </td><td>LowValue    </td><td>Gen_Y       </td><td style=\"text-align: right;\">          0</td><td style=\"text-align: right;\">        1</td><td style=\"text-align: right;\">        0</td><td style=\"text-align: right;\">       0</td><td style=\"text-align: right;\">          0</td><td style=\"text-align: right;\">      0</td><td style=\"text-align: right;\">             0</td><td style=\"text-align: right;\">                 0</td><td style=\"text-align: right;\">     1</td><td style=\"text-align: right;\">     0</td><td style=\"text-align: right;\">          0</td><td style=\"text-align: right;\">             0</td><td style=\"text-align: right;\">      0</td><td style=\"text-align: right;\">        1</td><td style=\"text-align: right;\">        0</td><td style=\"text-align: right;\">          0</td><td style=\"text-align: right;\">             0</td><td style=\"text-align: right;\">           0</td><td style=\"text-align: right;\">       0</td><td style=\"text-align: right;\">                  0</td><td style=\"text-align: right;\">           0</td><td style=\"text-align: right;\">             0</td><td style=\"text-align: right;\">              0</td><td style=\"text-align: right;\">     0</td><td style=\"text-align: right;\">                0</td><td style=\"text-align: right;\">              0</td><td style=\"text-align: right;\">             0</td><td style=\"text-align: right;\">         0</td><td style=\"text-align: right;\">       0</td></tr>\n",
       "<tr><td>Allen Perl     </td><td>Mr.         </td><td>4707    Hillcrest Lane         </td><td>Abeto     </td><td>PG     </td><td>IT            </td><td style=\"text-align: right;\">         6040</td><td style=\"text-align: right;\">                  0</td><td style=\"text-align: right;\">       nan</td><td>Allen.M.Perl@spambob.com      </td><td>0370 4762239  </td><td>Master Card      </td><td style=\"text-align: right;\">       nan</td><td>RP385        </td><td>U.S.         </td><td style=\"text-align: right;\">  2.28679e+07</td><td style=\"text-align: right;\">        5.15925e+15</td><td style=\"text-align: right;\">             nan</td><td style=\"text-align: right;\">    10003</td><td style=\"text-align: right;\">      7498</td><td>2016-10-22 00:00:00</td><td>2016-10-22 08:19:56</td><td style=\"text-align: right;\">            18.45</td><td>SW409           </td><td>2016-12-23 00:00:00</td><td>03/01/2016       </td><td style=\"text-align: right;\">   27</td><td style=\"text-align: right;\">        5.65 </td><td>Complete </td><td>Phone                </td><td>Frequent         </td><td>LowValue    </td><td>Gen_Y       </td><td style=\"text-align: right;\">          0</td><td style=\"text-align: right;\">        0</td><td style=\"text-align: right;\">        0</td><td style=\"text-align: right;\">       1</td><td style=\"text-align: right;\">          0</td><td style=\"text-align: right;\">      0</td><td style=\"text-align: right;\">             0</td><td style=\"text-align: right;\">                 0</td><td style=\"text-align: right;\">     0</td><td style=\"text-align: right;\">     0</td><td style=\"text-align: right;\">          0</td><td style=\"text-align: right;\">             0</td><td style=\"text-align: right;\">      0</td><td style=\"text-align: right;\">        1</td><td style=\"text-align: right;\">        0</td><td style=\"text-align: right;\">          0</td><td style=\"text-align: right;\">             0</td><td style=\"text-align: right;\">           0</td><td style=\"text-align: right;\">       0</td><td style=\"text-align: right;\">                  0</td><td style=\"text-align: right;\">           0</td><td style=\"text-align: right;\">             0</td><td style=\"text-align: right;\">              0</td><td style=\"text-align: right;\">     0</td><td style=\"text-align: right;\">                0</td><td style=\"text-align: right;\">              0</td><td style=\"text-align: right;\">             0</td><td style=\"text-align: right;\">         0</td><td style=\"text-align: right;\">       0</td></tr>\n",
       "<tr><td>Allen Perl     </td><td>Mr.         </td><td>4707    Hillcrest Lane         </td><td>Abeto     </td><td>PG     </td><td>IT            </td><td style=\"text-align: right;\">         6040</td><td style=\"text-align: right;\">                  0</td><td style=\"text-align: right;\">       nan</td><td>Allen.M.Perl@spambob.com      </td><td>0370 4762239  </td><td>Master Card      </td><td style=\"text-align: right;\">       nan</td><td>RP385        </td><td>U.S.         </td><td style=\"text-align: right;\">  2.28679e+07</td><td style=\"text-align: right;\">        5.13943e+15</td><td style=\"text-align: right;\">             nan</td><td style=\"text-align: right;\">    10003</td><td style=\"text-align: right;\">      7973</td><td>2016-04-06 00:00:00</td><td>2016-04-06 13:07:36</td><td style=\"text-align: right;\">            23.12</td><td>WE352           </td><td>2016-04-20 00:00:00</td><td>01/04/2016       </td><td style=\"text-align: right;\">   27</td><td style=\"text-align: right;\">       44.43 </td><td>Complete </td><td>Phone                </td><td>Frequent         </td><td>LowValue    </td><td>Gen_Y       </td><td style=\"text-align: right;\">          0</td><td style=\"text-align: right;\">        0</td><td style=\"text-align: right;\">        0</td><td style=\"text-align: right;\">       0</td><td style=\"text-align: right;\">          0</td><td style=\"text-align: right;\">      0</td><td style=\"text-align: right;\">             0</td><td style=\"text-align: right;\">                 0</td><td style=\"text-align: right;\">     0</td><td style=\"text-align: right;\">     0</td><td style=\"text-align: right;\">          1</td><td style=\"text-align: right;\">             0</td><td style=\"text-align: right;\">      0</td><td style=\"text-align: right;\">        0</td><td style=\"text-align: right;\">        0</td><td style=\"text-align: right;\">          0</td><td style=\"text-align: right;\">             0</td><td style=\"text-align: right;\">           0</td><td style=\"text-align: right;\">       0</td><td style=\"text-align: right;\">                  0</td><td style=\"text-align: right;\">           0</td><td style=\"text-align: right;\">             0</td><td style=\"text-align: right;\">              0</td><td style=\"text-align: right;\">     0</td><td style=\"text-align: right;\">                0</td><td style=\"text-align: right;\">              0</td><td style=\"text-align: right;\">             0</td><td style=\"text-align: right;\">         0</td><td style=\"text-align: right;\">       0</td></tr>\n",
       "<tr><td>Allen Perl     </td><td>Mr.         </td><td>4707    Hillcrest Lane         </td><td>Abeto     </td><td>PG     </td><td>IT            </td><td style=\"text-align: right;\">         6040</td><td style=\"text-align: right;\">                  0</td><td style=\"text-align: right;\">       nan</td><td>Allen.M.Perl@spambob.com      </td><td>0370 4762239  </td><td>Master Card      </td><td style=\"text-align: right;\">       nan</td><td>RP385        </td><td>U.S.         </td><td style=\"text-align: right;\">  2.28679e+07</td><td style=\"text-align: right;\">        5.12184e+15</td><td style=\"text-align: right;\">             nan</td><td style=\"text-align: right;\">    10003</td><td style=\"text-align: right;\">      9107</td><td>2016-02-06 00:00:00</td><td>2016-02-06 13:07:36</td><td style=\"text-align: right;\">            22.77</td><td>NW379           </td><td>2016-02-20 00:00:00</td><td>01/03/2016       </td><td style=\"text-align: right;\">   27</td><td style=\"text-align: right;\">       24.18 </td><td>Complete </td><td>Phone                </td><td>Frequent         </td><td>LowValue    </td><td>Gen_Y       </td><td style=\"text-align: right;\">          0</td><td style=\"text-align: right;\">        0</td><td style=\"text-align: right;\">        0</td><td style=\"text-align: right;\">       0</td><td style=\"text-align: right;\">          0</td><td style=\"text-align: right;\">      0</td><td style=\"text-align: right;\">             0</td><td style=\"text-align: right;\">                 0</td><td style=\"text-align: right;\">     0</td><td style=\"text-align: right;\">     0</td><td style=\"text-align: right;\">          0</td><td style=\"text-align: right;\">             0</td><td style=\"text-align: right;\">      0</td><td style=\"text-align: right;\">        0</td><td style=\"text-align: right;\">        0</td><td style=\"text-align: right;\">          0</td><td style=\"text-align: right;\">             0</td><td style=\"text-align: right;\">           0</td><td style=\"text-align: right;\">       0</td><td style=\"text-align: right;\">                  1</td><td style=\"text-align: right;\">           0</td><td style=\"text-align: right;\">             0</td><td style=\"text-align: right;\">              0</td><td style=\"text-align: right;\">     0</td><td style=\"text-align: right;\">                0</td><td style=\"text-align: right;\">              0</td><td style=\"text-align: right;\">             0</td><td style=\"text-align: right;\">         0</td><td style=\"text-align: right;\">       0</td></tr>\n",
       "<tr><td>Anthony Whitney</td><td>Mr.         </td><td>518 Highland    View      Drive</td><td>Achstetten</td><td>       </td><td>DE            </td><td style=\"text-align: right;\">        88480</td><td style=\"text-align: right;\">                  0</td><td style=\"text-align: right;\">       nan</td><td>Anthony.H.Whitney@pookmail.com</td><td>03571 39 94 30</td><td>VISA             </td><td style=\"text-align: right;\">       nan</td><td>WE349        </td><td>IT           </td><td style=\"text-align: right;\">nan          </td><td style=\"text-align: right;\">        4.46993e+15</td><td style=\"text-align: right;\">             nan</td><td style=\"text-align: right;\">    10007</td><td style=\"text-align: right;\">      7441</td><td>2016-01-20 00:00:00</td><td>2016-01-20 22:39:06</td><td style=\"text-align: right;\">            11.05</td><td>SC130           </td><td>2016-02-10 00:00:00</td><td>27/02/2016       </td><td style=\"text-align: right;\">  nan</td><td style=\"text-align: right;\">        1e+07</td><td>Complete </td><td>Desktop              </td><td>FirstTime        </td><td>HighValue   </td><td>Gen_Z       </td><td style=\"text-align: right;\">          0</td><td style=\"text-align: right;\">        0</td><td style=\"text-align: right;\">        0</td><td style=\"text-align: right;\">       0</td><td style=\"text-align: right;\">          0</td><td style=\"text-align: right;\">      0</td><td style=\"text-align: right;\">             0</td><td style=\"text-align: right;\">                 0</td><td style=\"text-align: right;\">     0</td><td style=\"text-align: right;\">     1</td><td style=\"text-align: right;\">          0</td><td style=\"text-align: right;\">             0</td><td style=\"text-align: right;\">      0</td><td style=\"text-align: right;\">        0</td><td style=\"text-align: right;\">        0</td><td style=\"text-align: right;\">          1</td><td style=\"text-align: right;\">             0</td><td style=\"text-align: right;\">           1</td><td style=\"text-align: right;\">       0</td><td style=\"text-align: right;\">                  0</td><td style=\"text-align: right;\">           0</td><td style=\"text-align: right;\">             1</td><td style=\"text-align: right;\">              0</td><td style=\"text-align: right;\">     0</td><td style=\"text-align: right;\">                0</td><td style=\"text-align: right;\">              0</td><td style=\"text-align: right;\">             0</td><td style=\"text-align: right;\">         1</td><td style=\"text-align: right;\">       0</td></tr>\n",
       "<tr><td>Thomas Owens   </td><td>Mr.         </td><td>4030 Jessie Street             </td><td>Adami     </td><td>CZ     </td><td>IT            </td><td style=\"text-align: right;\">        88041</td><td style=\"text-align: right;\">                  0</td><td style=\"text-align: right;\">       nan</td><td>Thomas.N.Owens@mailinator.com </td><td>0341 5536286  </td><td>VISA             </td><td style=\"text-align: right;\">       nan</td><td>WE352        </td><td>FR           </td><td style=\"text-align: right;\">  1.48e+14   </td><td style=\"text-align: right;\">        4.66281e+15</td><td style=\"text-align: right;\">             nan</td><td style=\"text-align: right;\">    10015</td><td style=\"text-align: right;\">       627</td><td>2016-03-16 17:47:25</td><td>2016-03-16 17:47:25</td><td style=\"text-align: right;\">             6.37</td><td>NC163           </td><td>2016-03-16 17:47:25</td><td>05/08/2016       </td><td style=\"text-align: right;\">   60</td><td style=\"text-align: right;\">       40.34 </td><td>Complete </td><td>Phone                </td><td>Occasional       </td><td>LowValue    </td><td>Baby_Boomers</td><td style=\"text-align: right;\">          0</td><td style=\"text-align: right;\">        0</td><td style=\"text-align: right;\">        0</td><td style=\"text-align: right;\">       0</td><td style=\"text-align: right;\">          0</td><td style=\"text-align: right;\">      0</td><td style=\"text-align: right;\">             0</td><td style=\"text-align: right;\">                 0</td><td style=\"text-align: right;\">     0</td><td style=\"text-align: right;\">     0</td><td style=\"text-align: right;\">          1</td><td style=\"text-align: right;\">             0</td><td style=\"text-align: right;\">      1</td><td style=\"text-align: right;\">        1</td><td style=\"text-align: right;\">        0</td><td style=\"text-align: right;\">          0</td><td style=\"text-align: right;\">             1</td><td style=\"text-align: right;\">           0</td><td style=\"text-align: right;\">       0</td><td style=\"text-align: right;\">                  0</td><td style=\"text-align: right;\">           0</td><td style=\"text-align: right;\">             0</td><td style=\"text-align: right;\">              0</td><td style=\"text-align: right;\">     0</td><td style=\"text-align: right;\">                0</td><td style=\"text-align: right;\">              0</td><td style=\"text-align: right;\">             0</td><td style=\"text-align: right;\">         0</td><td style=\"text-align: right;\">       0</td></tr>\n",
       "<tr><td>Thomas Owens   </td><td>Mr.         </td><td>4030 Jessie Street             </td><td>Adami     </td><td>CZ     </td><td>IT            </td><td style=\"text-align: right;\">        88041</td><td style=\"text-align: right;\">                  0</td><td style=\"text-align: right;\">       nan</td><td>Thomas.N.Owens@mailinator.com </td><td>0341 5536286  </td><td>VISA             </td><td style=\"text-align: right;\">       nan</td><td>WE352        </td><td>FR           </td><td style=\"text-align: right;\">  1.48e+14   </td><td style=\"text-align: right;\">        4.01665e+15</td><td style=\"text-align: right;\">             nan</td><td style=\"text-align: right;\">    10015</td><td style=\"text-align: right;\">      1209</td><td>2016-01-20 00:00:00</td><td>2016-01-20 20:43:54</td><td style=\"text-align: right;\">            23.37</td><td>SW340           </td><td>2016-02-10 00:00:00</td><td>27/02/2016       </td><td style=\"text-align: right;\">   60</td><td style=\"text-align: right;\">       18.81 </td><td>Cancelled</td><td>Phone                </td><td>Occasional       </td><td>LowValue    </td><td>Baby_Boomers</td><td style=\"text-align: right;\">          0</td><td style=\"text-align: right;\">        0</td><td style=\"text-align: right;\">        0</td><td style=\"text-align: right;\">       0</td><td style=\"text-align: right;\">          0</td><td style=\"text-align: right;\">      0</td><td style=\"text-align: right;\">             1</td><td style=\"text-align: right;\">                 0</td><td style=\"text-align: right;\">     0</td><td style=\"text-align: right;\">     0</td><td style=\"text-align: right;\">          0</td><td style=\"text-align: right;\">             0</td><td style=\"text-align: right;\">      0</td><td style=\"text-align: right;\">        0</td><td style=\"text-align: right;\">        0</td><td style=\"text-align: right;\">          0</td><td style=\"text-align: right;\">             0</td><td style=\"text-align: right;\">           0</td><td style=\"text-align: right;\">       0</td><td style=\"text-align: right;\">                  0</td><td style=\"text-align: right;\">           0</td><td style=\"text-align: right;\">             0</td><td style=\"text-align: right;\">              0</td><td style=\"text-align: right;\">     0</td><td style=\"text-align: right;\">                0</td><td style=\"text-align: right;\">              0</td><td style=\"text-align: right;\">             0</td><td style=\"text-align: right;\">         0</td><td style=\"text-align: right;\">       0</td></tr>\n",
       "<tr><td>Thomas Owens   </td><td>Mr.         </td><td>4030 Jessie Street             </td><td>Adami     </td><td>CZ     </td><td>IT            </td><td style=\"text-align: right;\">        88041</td><td style=\"text-align: right;\">                  0</td><td style=\"text-align: right;\">       nan</td><td>Thomas.N.Owens@mailinator.com </td><td>0341 5536286  </td><td>VISA             </td><td style=\"text-align: right;\">       nan</td><td>WE352        </td><td>FR           </td><td style=\"text-align: right;\">  1.48e+14   </td><td style=\"text-align: right;\">        4.56388e+15</td><td style=\"text-align: right;\">             nan</td><td style=\"text-align: right;\">    10015</td><td style=\"text-align: right;\">      1556</td><td>2016-04-10 00:00:00</td><td>2016-04-10 18:36:44</td><td style=\"text-align: right;\">            19.81</td><td>NW310           </td><td>2016-04-29 00:00:00</td><td>10/05/2016       </td><td style=\"text-align: right;\">   60</td><td style=\"text-align: right;\">       34.04 </td><td>Complete </td><td>Phone                </td><td>Occasional       </td><td>LowValue    </td><td>Baby_Boomers</td><td style=\"text-align: right;\">          0</td><td style=\"text-align: right;\">        0</td><td style=\"text-align: right;\">        0</td><td style=\"text-align: right;\">       0</td><td style=\"text-align: right;\">          0</td><td style=\"text-align: right;\">      0</td><td style=\"text-align: right;\">             0</td><td style=\"text-align: right;\">                 0</td><td style=\"text-align: right;\">     0</td><td style=\"text-align: right;\">     0</td><td style=\"text-align: right;\">          0</td><td style=\"text-align: right;\">             0</td><td style=\"text-align: right;\">      0</td><td style=\"text-align: right;\">        0</td><td style=\"text-align: right;\">        0</td><td style=\"text-align: right;\">          0</td><td style=\"text-align: right;\">             0</td><td style=\"text-align: right;\">           0</td><td style=\"text-align: right;\">       0</td><td style=\"text-align: right;\">                  0</td><td style=\"text-align: right;\">           0</td><td style=\"text-align: right;\">             0</td><td style=\"text-align: right;\">              0</td><td style=\"text-align: right;\">     0</td><td style=\"text-align: right;\">                1</td><td style=\"text-align: right;\">              0</td><td style=\"text-align: right;\">             0</td><td style=\"text-align: right;\">         0</td><td style=\"text-align: right;\">       0</td></tr>\n",
       "</tbody>\n",
       "</table>"
      ]
     },
     "metadata": {},
     "output_type": "display_data"
    },
    {
     "data": {
      "text/plain": []
     },
     "execution_count": 6,
     "metadata": {},
     "output_type": "execute_result"
    }
   ],
   "source": [
    "df"
   ]
  },
  {
   "cell_type": "code",
   "execution_count": 4,
   "id": "controlled-quick",
   "metadata": {},
   "outputs": [
    {
     "name": "stdout",
     "output_type": "stream",
     "text": [
      "AutoML progress: |\n",
      "16:53:37.527: AutoML: XGBoost is not available; skipping it.\n",
      "16:53:37.559: Step 'best_of_family_xgboost' not defined in provider 'StackedEnsemble': skipping it.\n",
      "16:53:37.559: Step 'all_xgboost' not defined in provider 'StackedEnsemble': skipping it.\n",
      "\n",
      "███████████████████████████████████████████████████████████████| (done) 100%\n",
      "AutoML progress: |\n",
      "16:55:31.612: AutoML: XGBoost is not available; skipping it.\n",
      "16:55:31.612: Step 'best_of_family_xgboost' not defined in provider 'StackedEnsemble': skipping it.\n",
      "16:55:31.612: Step 'all_xgboost' not defined in provider 'StackedEnsemble': skipping it.\n",
      "\n",
      "███████████████████████████████████████████████████████████████| (done) 100%\n",
      "AutoML progress: |\n",
      "16:57:03.352: AutoML: XGBoost is not available; skipping it.\n",
      "16:57:03.352: Step 'best_of_family_xgboost' not defined in provider 'StackedEnsemble': skipping it.\n",
      "16:57:03.352: Step 'all_xgboost' not defined in provider 'StackedEnsemble': skipping it.\n",
      "\n",
      "███████████████████████████████████████████████████████████████| (done) 100%\n",
      "AutoML progress: |\n",
      "16:58:34.836: AutoML: XGBoost is not available; skipping it.\n",
      "16:58:34.836: Step 'best_of_family_xgboost' not defined in provider 'StackedEnsemble': skipping it.\n",
      "16:58:34.836: Step 'all_xgboost' not defined in provider 'StackedEnsemble': skipping it.\n",
      "\n",
      "███████████████████████████████████████████████████████████████| (done) 100%\n",
      "AutoML progress: |\n",
      "16:59:58.725: AutoML: XGBoost is not available; skipping it.\n",
      "16:59:58.725: Step 'best_of_family_xgboost' not defined in provider 'StackedEnsemble': skipping it.\n",
      "16:59:58.725: Step 'all_xgboost' not defined in provider 'StackedEnsemble': skipping it.\n",
      "\n",
      "███████████████████████████████████████████████████████████████| (done) 100%\n",
      "AutoML progress: |\n",
      "17:01:23.703: AutoML: XGBoost is not available; skipping it.\n",
      "17:01:23.703: Step 'best_of_family_xgboost' not defined in provider 'StackedEnsemble': skipping it.\n",
      "17:01:23.703: Step 'all_xgboost' not defined in provider 'StackedEnsemble': skipping it.\n",
      "\n",
      "███████████████████████████████████████████████████████████████| (done) 100%\n",
      "AutoML progress: |\n",
      "17:02:50.759: AutoML: XGBoost is not available; skipping it.\n",
      "17:02:50.759: Step 'best_of_family_xgboost' not defined in provider 'StackedEnsemble': skipping it.\n",
      "17:02:50.759: Step 'all_xgboost' not defined in provider 'StackedEnsemble': skipping it.\n",
      "\n",
      "███████████████████████████████████████████████████████████████| (done) 100%\n",
      "AutoML progress: |\n",
      "17:04:20.503: AutoML: XGBoost is not available; skipping it.\n",
      "17:04:20.503: Step 'best_of_family_xgboost' not defined in provider 'StackedEnsemble': skipping it.\n",
      "17:04:20.503: Step 'all_xgboost' not defined in provider 'StackedEnsemble': skipping it.\n",
      "\n",
      "███████████████████████████████████████████████████████████████| (done) 100%\n",
      "AutoML progress: |\n",
      "17:05:48.797: AutoML: XGBoost is not available; skipping it.\n",
      "17:05:48.797: Step 'best_of_family_xgboost' not defined in provider 'StackedEnsemble': skipping it.\n",
      "17:05:48.797: Step 'all_xgboost' not defined in provider 'StackedEnsemble': skipping it.\n",
      "\n",
      "███████████████████████████████████████████████████████████████| (done) 100%\n",
      "AutoML progress: |\n",
      "17:07:12.560: AutoML: XGBoost is not available; skipping it.\n",
      "17:07:12.560: Step 'best_of_family_xgboost' not defined in provider 'StackedEnsemble': skipping it.\n",
      "17:07:12.560: Step 'all_xgboost' not defined in provider 'StackedEnsemble': skipping it.\n",
      "\n",
      "███████████████████████████████████████████████████████████████| (done) 100%\n",
      "AutoML progress: |\n",
      "17:09:07.204: AutoML: XGBoost is not available; skipping it.\n",
      "17:09:07.204: Step 'best_of_family_xgboost' not defined in provider 'StackedEnsemble': skipping it.\n",
      "17:09:07.204: Step 'all_xgboost' not defined in provider 'StackedEnsemble': skipping it.\n",
      "\n",
      "███████████████████████████████████████████████████████████████| (done) 100%\n",
      "AutoML progress: |\n",
      "17:10:48.291: AutoML: XGBoost is not available; skipping it.\n",
      "17:10:48.291: Step 'best_of_family_xgboost' not defined in provider 'StackedEnsemble': skipping it.\n",
      "17:10:48.307: Step 'all_xgboost' not defined in provider 'StackedEnsemble': skipping it.\n",
      "\n",
      "███████████████████████████████████████████████████████████████| (done) 100%\n",
      "AutoML progress: |\n",
      "17:12:16.440: AutoML: XGBoost is not available; skipping it.\n",
      "17:12:16.440: Step 'best_of_family_xgboost' not defined in provider 'StackedEnsemble': skipping it.\n",
      "17:12:16.440: Step 'all_xgboost' not defined in provider 'StackedEnsemble': skipping it.\n",
      "\n",
      "███████████████████████████████████████████████████████████████| (done) 100%\n",
      "AutoML progress: |\n",
      "17:13:55.646: AutoML: XGBoost is not available; skipping it.\n",
      "17:13:55.646: Step 'best_of_family_xgboost' not defined in provider 'StackedEnsemble': skipping it.\n",
      "17:13:55.646: Step 'all_xgboost' not defined in provider 'StackedEnsemble': skipping it.\n",
      "\n",
      "███████████████████████████████████████████████████████████████| (done) 100%\n",
      "AutoML progress: |\n",
      "17:15:34.299: AutoML: XGBoost is not available; skipping it.\n",
      "17:15:34.299: Step 'best_of_family_xgboost' not defined in provider 'StackedEnsemble': skipping it.\n",
      "17:15:34.299: Step 'all_xgboost' not defined in provider 'StackedEnsemble': skipping it.\n",
      "\n",
      "███████████████████████████████████████████████████████████████| (done) 100%\n",
      "AutoML progress: |\n",
      "17:17:02.937: AutoML: XGBoost is not available; skipping it.\n",
      "17:17:02.937: Step 'best_of_family_xgboost' not defined in provider 'StackedEnsemble': skipping it.\n",
      "17:17:02.937: Step 'all_xgboost' not defined in provider 'StackedEnsemble': skipping it.\n",
      "\n",
      "███████████████████████████████████████████████████████████████| (done) 100%\n",
      "AutoML progress: |\n",
      "17:18:55.784: AutoML: XGBoost is not available; skipping it.\n",
      "17:18:55.784: Step 'best_of_family_xgboost' not defined in provider 'StackedEnsemble': skipping it.\n",
      "17:18:55.784: Step 'all_xgboost' not defined in provider 'StackedEnsemble': skipping it.\n",
      "\n",
      "███████████████████████████████████████████████████████████████| (done) 100%\n",
      "AutoML progress: |\n",
      "17:20:31.831: AutoML: XGBoost is not available; skipping it.\n",
      "17:20:31.831: Step 'best_of_family_xgboost' not defined in provider 'StackedEnsemble': skipping it.\n",
      "17:20:31.831: Step 'all_xgboost' not defined in provider 'StackedEnsemble': skipping it.\n",
      "\n",
      "███████████████████████████████████████████████████████████████| (done) 100%\n",
      "AutoML progress: |\n",
      "17:22:13.559: AutoML: XGBoost is not available; skipping it.\n",
      "17:22:13.575: Step 'best_of_family_xgboost' not defined in provider 'StackedEnsemble': skipping it.\n",
      "17:22:13.575: Step 'all_xgboost' not defined in provider 'StackedEnsemble': skipping it.\n",
      "\n",
      "███████████████████████████████████████████████████████████████| (done) 100%\n",
      "AutoML progress: |\n",
      "17:24:07.202: AutoML: XGBoost is not available; skipping it.\n",
      "17:24:07.202: Step 'best_of_family_xgboost' not defined in provider 'StackedEnsemble': skipping it.\n",
      "17:24:07.202: Step 'all_xgboost' not defined in provider 'StackedEnsemble': skipping it.\n",
      "\n",
      "███████████████████████████████████████████████████████████████| (done) 100%\n",
      "AutoML progress: |\n",
      "17:25:36.819: AutoML: XGBoost is not available; skipping it.\n",
      "17:25:36.819: Step 'best_of_family_xgboost' not defined in provider 'StackedEnsemble': skipping it.\n",
      "17:25:36.819: Step 'all_xgboost' not defined in provider 'StackedEnsemble': skipping it.\n",
      "\n",
      "███████████████████████████████████████████████████████████████| (done) 100%\n",
      "AutoML progress: |\n",
      "17:26:56.900: AutoML: XGBoost is not available; skipping it.\n",
      "17:26:56.900: Step 'best_of_family_xgboost' not defined in provider 'StackedEnsemble': skipping it.\n",
      "17:26:56.900: Step 'all_xgboost' not defined in provider 'StackedEnsemble': skipping it.\n",
      "\n",
      "███████████████████████████████████████████████████████████████| (done) 100%\n",
      "AutoML progress: |\n",
      "17:28:54.238: AutoML: XGBoost is not available; skipping it.\n",
      "17:28:54.238: Step 'best_of_family_xgboost' not defined in provider 'StackedEnsemble': skipping it.\n",
      "17:28:54.238: Step 'all_xgboost' not defined in provider 'StackedEnsemble': skipping it.\n",
      "\n",
      "███████████████████████████████████████████████████████████████| (done) 100%\n",
      "AutoML progress: |\n",
      "17:30:21.303: AutoML: XGBoost is not available; skipping it.\n",
      "17:30:21.303: Step 'best_of_family_xgboost' not defined in provider 'StackedEnsemble': skipping it.\n",
      "17:30:21.303: Step 'all_xgboost' not defined in provider 'StackedEnsemble': skipping it.\n",
      "\n"
     ]
    },
    {
     "name": "stdout",
     "output_type": "stream",
     "text": [
      "███████████████████████████████████████████████████████████████| (done) 100%\n",
      "AutoML progress: |\n",
      "17:31:48.864: AutoML: XGBoost is not available; skipping it.\n",
      "17:31:48.864: Step 'best_of_family_xgboost' not defined in provider 'StackedEnsemble': skipping it.\n",
      "17:31:48.864: Step 'all_xgboost' not defined in provider 'StackedEnsemble': skipping it.\n",
      "\n",
      "███████████████████████████████████████████████████████████████| (done) 100%\n",
      "AutoML progress: |\n",
      "17:33:18.847: AutoML: XGBoost is not available; skipping it.\n",
      "17:33:18.847: Step 'best_of_family_xgboost' not defined in provider 'StackedEnsemble': skipping it.\n",
      "17:33:18.847: Step 'all_xgboost' not defined in provider 'StackedEnsemble': skipping it.\n",
      "\n",
      "███████████████████████████████████████████████████████████████| (done) 100%\n",
      "AutoML progress: |\n",
      "17:35:08.908: AutoML: XGBoost is not available; skipping it.\n",
      "17:35:08.924: Step 'best_of_family_xgboost' not defined in provider 'StackedEnsemble': skipping it.\n",
      "17:35:08.924: Step 'all_xgboost' not defined in provider 'StackedEnsemble': skipping it.\n",
      "\n",
      "███████████████████████████████████████████████████████████████| (done) 100%\n",
      "AutoML progress: |\n",
      "17:36:35.525: AutoML: XGBoost is not available; skipping it.\n",
      "17:36:35.525: Step 'best_of_family_xgboost' not defined in provider 'StackedEnsemble': skipping it.\n",
      "17:36:35.525: Step 'all_xgboost' not defined in provider 'StackedEnsemble': skipping it.\n",
      "\n",
      "███████████████████████████████████████████████████████████████| (done) 100%\n",
      "AutoML progress: |\n",
      "17:38:27.940: AutoML: XGBoost is not available; skipping it.\n",
      "17:38:27.940: Step 'best_of_family_xgboost' not defined in provider 'StackedEnsemble': skipping it.\n",
      "17:38:27.940: Step 'all_xgboost' not defined in provider 'StackedEnsemble': skipping it.\n",
      "\n",
      "███████████████████████████████████████████████████████████████| (done) 100%\n"
     ]
    }
   ],
   "source": [
    "x = ['GenderCode','POSTAL_CODE','AGE','CREDITCARD_TYPE','GENERATION']\n",
    "l = []\n",
    "model_path_dict = {}\n",
    "for y in product_list:\n",
    "    df[y] = df[y].asfactor()\n",
    "    aml = H2OAutoML(max_models = 10, seed = 1)\n",
    "    aml.train(x = x, y = y, training_frame = df)\n",
    "    l.append(aml.leaderboard.head(3))\n",
    "    model = aml.leader\n",
    "    model_path = h2o.save_model(model=model, path=\"/tmp/mymodel\", force=True)\n",
    "    model_path_dict[y] = model_path"
   ]
  },
  {
   "cell_type": "code",
   "execution_count": 25,
   "id": "published-ecology",
   "metadata": {},
   "outputs": [
    {
     "data": {
      "text/html": [
       "<table>\n",
       "<thead>\n",
       "<tr><th>model_id                                                </th><th style=\"text-align: right;\">     auc</th><th style=\"text-align: right;\">  logloss</th><th style=\"text-align: right;\">    aucpr</th><th style=\"text-align: right;\">  mean_per_class_error</th><th style=\"text-align: right;\">    rmse</th><th style=\"text-align: right;\">      mse</th></tr>\n",
       "</thead>\n",
       "<tbody>\n",
       "<tr><td>GBM_grid_1_AutoML_31_20211020_151134_model_1            </td><td style=\"text-align: right;\">0.656767</td><td style=\"text-align: right;\"> 0.206556</td><td style=\"text-align: right;\">0.0889913</td><td style=\"text-align: right;\">              0.397329</td><td style=\"text-align: right;\">0.227281</td><td style=\"text-align: right;\">0.0516567</td></tr>\n",
       "<tr><td>StackedEnsemble_BestOfFamily_6_AutoML_31_20211020_151134</td><td style=\"text-align: right;\">0.655904</td><td style=\"text-align: right;\"> 0.206661</td><td style=\"text-align: right;\">0.0877832</td><td style=\"text-align: right;\">              0.395159</td><td style=\"text-align: right;\">0.227282</td><td style=\"text-align: right;\">0.0516571</td></tr>\n",
       "</tbody>\n",
       "</table>"
      ]
     },
     "metadata": {},
     "output_type": "display_data"
    },
    {
     "data": {
      "text/plain": []
     },
     "execution_count": 25,
     "metadata": {},
     "output_type": "execute_result"
    }
   ],
   "source": [
    "aml.leaderboard.head(2)"
   ]
  },
  {
   "cell_type": "code",
   "execution_count": 5,
   "id": "veterinary-grenada",
   "metadata": {},
   "outputs": [
    {
     "data": {
      "text/plain": [
       "{'Baby Food': 'E:\\\\tmp\\\\mymodel\\\\StackedEnsemble_AllModels_4_AutoML_1_20211020_165337',\n",
       " 'Diapers': 'E:\\\\tmp\\\\mymodel\\\\StackedEnsemble_BestOfFamily_4_AutoML_2_20211020_165531',\n",
       " 'Formula': 'E:\\\\tmp\\\\mymodel\\\\StackedEnsemble_AllModels_4_AutoML_3_20211020_165703',\n",
       " 'Lotion': 'E:\\\\tmp\\\\mymodel\\\\StackedEnsemble_BestOfFamily_4_AutoML_4_20211020_165834',\n",
       " 'Baby wash': 'E:\\\\tmp\\\\mymodel\\\\GBM_5_AutoML_5_20211020_165958',\n",
       " 'Wipes': 'E:\\\\tmp\\\\mymodel\\\\StackedEnsemble_AllModels_5_AutoML_6_20211020_170123',\n",
       " 'Fresh Fruits': 'E:\\\\tmp\\\\mymodel\\\\StackedEnsemble_BestOfFamily_4_AutoML_7_20211020_170250',\n",
       " 'Fresh Vegetables': 'E:\\\\tmp\\\\mymodel\\\\GBM_grid_1_AutoML_8_20211020_170420_model_1',\n",
       " 'Beer': 'E:\\\\tmp\\\\mymodel\\\\StackedEnsemble_AllModels_4_AutoML_9_20211020_170548',\n",
       " 'Wine': 'E:\\\\tmp\\\\mymodel\\\\StackedEnsemble_BestOfFamily_4_AutoML_10_20211020_170712',\n",
       " 'Club Soda': 'E:\\\\tmp\\\\mymodel\\\\StackedEnsemble_AllModels_4_AutoML_11_20211020_170907',\n",
       " 'Sports Drink': 'E:\\\\tmp\\\\mymodel\\\\GBM_1_AutoML_12_20211020_171048',\n",
       " 'Chips': 'E:\\\\tmp\\\\mymodel\\\\StackedEnsemble_AllModels_4_AutoML_13_20211020_171216',\n",
       " 'Popcorn': 'E:\\\\tmp\\\\mymodel\\\\StackedEnsemble_AllModels_4_AutoML_14_20211020_171355',\n",
       " 'Oatmeal': 'E:\\\\tmp\\\\mymodel\\\\StackedEnsemble_AllModels_3_AutoML_15_20211020_171534',\n",
       " 'Medicines': 'E:\\\\tmp\\\\mymodel\\\\StackedEnsemble_BestOfFamily_4_AutoML_16_20211020_171702',\n",
       " 'Canned Foods': 'E:\\\\tmp\\\\mymodel\\\\StackedEnsemble_AllModels_4_AutoML_17_20211020_171855',\n",
       " 'Cigarettes': 'E:\\\\tmp\\\\mymodel\\\\StackedEnsemble_AllModels_3_AutoML_18_20211020_172031',\n",
       " 'Cheese': 'E:\\\\tmp\\\\mymodel\\\\StackedEnsemble_BestOfFamily_4_AutoML_19_20211020_172213',\n",
       " 'Cleaning Products': 'E:\\\\tmp\\\\mymodel\\\\StackedEnsemble_BestOfFamily_4_AutoML_20_20211020_172407',\n",
       " 'Condiments': 'E:\\\\tmp\\\\mymodel\\\\StackedEnsemble_AllModels_4_AutoML_21_20211020_172536',\n",
       " 'Frozen Foods': 'E:\\\\tmp\\\\mymodel\\\\StackedEnsemble_AllModels_4_AutoML_22_20211020_172656',\n",
       " 'Kitchen Items': 'E:\\\\tmp\\\\mymodel\\\\StackedEnsemble_BestOfFamily_2_AutoML_23_20211020_172854',\n",
       " 'Meat': 'E:\\\\tmp\\\\mymodel\\\\GBM_5_AutoML_24_20211020_173021',\n",
       " 'Office Supplies': 'E:\\\\tmp\\\\mymodel\\\\StackedEnsemble_AllModels_4_AutoML_25_20211020_173148',\n",
       " 'Personal Care': 'E:\\\\tmp\\\\mymodel\\\\StackedEnsemble_AllModels_4_AutoML_26_20211020_173318',\n",
       " 'Pet Supplies': 'E:\\\\tmp\\\\mymodel\\\\StackedEnsemble_BestOfFamily_4_AutoML_27_20211020_173508',\n",
       " 'Sea Food': 'E:\\\\tmp\\\\mymodel\\\\StackedEnsemble_AllModels_4_AutoML_28_20211020_173635',\n",
       " 'Spices': 'E:\\\\tmp\\\\mymodel\\\\GBM_1_AutoML_29_20211020_173827'}"
      ]
     },
     "execution_count": 5,
     "metadata": {},
     "output_type": "execute_result"
    }
   ],
   "source": [
    "model_path_dict"
   ]
  },
  {
   "cell_type": "code",
   "execution_count": 6,
   "id": "advised-aggregate",
   "metadata": {},
   "outputs": [
    {
     "data": {
      "text/html": [
       "<table>\n",
       "<thead>\n",
       "<tr><th>model_id                                               </th><th style=\"text-align: right;\">     auc</th><th style=\"text-align: right;\">  logloss</th><th style=\"text-align: right;\">    aucpr</th><th style=\"text-align: right;\">  mean_per_class_error</th><th style=\"text-align: right;\">    rmse</th><th style=\"text-align: right;\">      mse</th></tr>\n",
       "</thead>\n",
       "<tbody>\n",
       "<tr><td>StackedEnsemble_AllModels_4_AutoML_1_20211020_165337   </td><td style=\"text-align: right;\">0.670792</td><td style=\"text-align: right;\"> 0.19945 </td><td style=\"text-align: right;\">0.0892371</td><td style=\"text-align: right;\">              0.360776</td><td style=\"text-align: right;\">0.22351 </td><td style=\"text-align: right;\">0.0499565</td></tr>\n",
       "<tr><td>StackedEnsemble_BestOfFamily_5_AutoML_1_20211020_165337</td><td style=\"text-align: right;\">0.665497</td><td style=\"text-align: right;\"> 0.200159</td><td style=\"text-align: right;\">0.0842039</td><td style=\"text-align: right;\">              0.367057</td><td style=\"text-align: right;\">0.223857</td><td style=\"text-align: right;\">0.0501121</td></tr>\n",
       "<tr><td>StackedEnsemble_BestOfFamily_6_AutoML_1_20211020_165337</td><td style=\"text-align: right;\">0.653557</td><td style=\"text-align: right;\"> 0.20056 </td><td style=\"text-align: right;\">0.0780003</td><td style=\"text-align: right;\">              0.349124</td><td style=\"text-align: right;\">0.223309</td><td style=\"text-align: right;\">0.0498671</td></tr>\n",
       "</tbody>\n",
       "</table>"
      ]
     },
     "metadata": {},
     "output_type": "display_data"
    },
    {
     "data": {
      "text/html": [
       "<table>\n",
       "<thead>\n",
       "<tr><th>model_id                                               </th><th style=\"text-align: right;\">     auc</th><th style=\"text-align: right;\">  logloss</th><th style=\"text-align: right;\">   aucpr</th><th style=\"text-align: right;\">  mean_per_class_error</th><th style=\"text-align: right;\">    rmse</th><th style=\"text-align: right;\">      mse</th></tr>\n",
       "</thead>\n",
       "<tbody>\n",
       "<tr><td>StackedEnsemble_BestOfFamily_4_AutoML_2_20211020_165531</td><td style=\"text-align: right;\">0.678175</td><td style=\"text-align: right;\"> 0.309579</td><td style=\"text-align: right;\">0.164574</td><td style=\"text-align: right;\">              0.361081</td><td style=\"text-align: right;\">0.296914</td><td style=\"text-align: right;\">0.0881582</td></tr>\n",
       "<tr><td>StackedEnsemble_AllModels_4_AutoML_2_20211020_165531   </td><td style=\"text-align: right;\">0.671282</td><td style=\"text-align: right;\"> 0.310688</td><td style=\"text-align: right;\">0.162175</td><td style=\"text-align: right;\">              0.34965 </td><td style=\"text-align: right;\">0.297251</td><td style=\"text-align: right;\">0.0883583</td></tr>\n",
       "<tr><td>GBM_1_AutoML_2_20211020_165531                         </td><td style=\"text-align: right;\">0.668454</td><td style=\"text-align: right;\"> 0.310038</td><td style=\"text-align: right;\">0.152846</td><td style=\"text-align: right;\">              0.34541 </td><td style=\"text-align: right;\">0.29691 </td><td style=\"text-align: right;\">0.0881555</td></tr>\n",
       "</tbody>\n",
       "</table>"
      ]
     },
     "metadata": {},
     "output_type": "display_data"
    },
    {
     "data": {
      "text/html": [
       "<table>\n",
       "<thead>\n",
       "<tr><th>model_id                                               </th><th style=\"text-align: right;\">     auc</th><th style=\"text-align: right;\">  logloss</th><th style=\"text-align: right;\">    aucpr</th><th style=\"text-align: right;\">  mean_per_class_error</th><th style=\"text-align: right;\">    rmse</th><th style=\"text-align: right;\">      mse</th></tr>\n",
       "</thead>\n",
       "<tbody>\n",
       "<tr><td>StackedEnsemble_AllModels_4_AutoML_3_20211020_165703   </td><td style=\"text-align: right;\">0.658613</td><td style=\"text-align: right;\"> 0.209624</td><td style=\"text-align: right;\">0.086353 </td><td style=\"text-align: right;\">              0.353826</td><td style=\"text-align: right;\">0.229907</td><td style=\"text-align: right;\">0.0528573</td></tr>\n",
       "<tr><td>GBM_grid_1_AutoML_3_20211020_165703_model_1            </td><td style=\"text-align: right;\">0.657495</td><td style=\"text-align: right;\"> 0.208777</td><td style=\"text-align: right;\">0.084076 </td><td style=\"text-align: right;\">              0.402352</td><td style=\"text-align: right;\">0.228827</td><td style=\"text-align: right;\">0.0523618</td></tr>\n",
       "<tr><td>StackedEnsemble_BestOfFamily_2_AutoML_3_20211020_165703</td><td style=\"text-align: right;\">0.655313</td><td style=\"text-align: right;\"> 0.208236</td><td style=\"text-align: right;\">0.0819336</td><td style=\"text-align: right;\">              0.360934</td><td style=\"text-align: right;\">0.228642</td><td style=\"text-align: right;\">0.0522772</td></tr>\n",
       "</tbody>\n",
       "</table>"
      ]
     },
     "metadata": {},
     "output_type": "display_data"
    },
    {
     "data": {
      "text/html": [
       "<table>\n",
       "<thead>\n",
       "<tr><th>model_id                                               </th><th style=\"text-align: right;\">     auc</th><th style=\"text-align: right;\">  logloss</th><th style=\"text-align: right;\">    aucpr</th><th style=\"text-align: right;\">  mean_per_class_error</th><th style=\"text-align: right;\">    rmse</th><th style=\"text-align: right;\">      mse</th></tr>\n",
       "</thead>\n",
       "<tbody>\n",
       "<tr><td>StackedEnsemble_BestOfFamily_4_AutoML_4_20211020_165834</td><td style=\"text-align: right;\">0.670898</td><td style=\"text-align: right;\"> 0.192982</td><td style=\"text-align: right;\">0.0819159</td><td style=\"text-align: right;\">              0.382257</td><td style=\"text-align: right;\">0.219053</td><td style=\"text-align: right;\">0.0479842</td></tr>\n",
       "<tr><td>StackedEnsemble_AllModels_4_AutoML_4_20211020_165834   </td><td style=\"text-align: right;\">0.665787</td><td style=\"text-align: right;\"> 0.193582</td><td style=\"text-align: right;\">0.080206 </td><td style=\"text-align: right;\">              0.347724</td><td style=\"text-align: right;\">0.219129</td><td style=\"text-align: right;\">0.0480173</td></tr>\n",
       "<tr><td>StackedEnsemble_BestOfFamily_1_AutoML_4_20211020_165834</td><td style=\"text-align: right;\">0.665464</td><td style=\"text-align: right;\"> 0.192092</td><td style=\"text-align: right;\">0.0779981</td><td style=\"text-align: right;\">              0.361766</td><td style=\"text-align: right;\">0.217788</td><td style=\"text-align: right;\">0.0474315</td></tr>\n",
       "</tbody>\n",
       "</table>"
      ]
     },
     "metadata": {},
     "output_type": "display_data"
    },
    {
     "data": {
      "text/html": [
       "<table>\n",
       "<thead>\n",
       "<tr><th>model_id                                               </th><th style=\"text-align: right;\">     auc</th><th style=\"text-align: right;\">  logloss</th><th style=\"text-align: right;\">    aucpr</th><th style=\"text-align: right;\">  mean_per_class_error</th><th style=\"text-align: right;\">    rmse</th><th style=\"text-align: right;\">      mse</th></tr>\n",
       "</thead>\n",
       "<tbody>\n",
       "<tr><td>GBM_5_AutoML_5_20211020_165958                         </td><td style=\"text-align: right;\">0.684997</td><td style=\"text-align: right;\"> 0.198904</td><td style=\"text-align: right;\">0.0872633</td><td style=\"text-align: right;\">              0.361917</td><td style=\"text-align: right;\">0.224251</td><td style=\"text-align: right;\">0.0502885</td></tr>\n",
       "<tr><td>StackedEnsemble_BestOfFamily_3_AutoML_5_20211020_165958</td><td style=\"text-align: right;\">0.684342</td><td style=\"text-align: right;\"> 0.197846</td><td style=\"text-align: right;\">0.0889218</td><td style=\"text-align: right;\">              0.361205</td><td style=\"text-align: right;\">0.223188</td><td style=\"text-align: right;\">0.049813 </td></tr>\n",
       "<tr><td>StackedEnsemble_AllModels_2_AutoML_5_20211020_165958   </td><td style=\"text-align: right;\">0.684   </td><td style=\"text-align: right;\"> 0.19758 </td><td style=\"text-align: right;\">0.0877373</td><td style=\"text-align: right;\">              0.363933</td><td style=\"text-align: right;\">0.223066</td><td style=\"text-align: right;\">0.0497584</td></tr>\n",
       "</tbody>\n",
       "</table>"
      ]
     },
     "metadata": {},
     "output_type": "display_data"
    },
    {
     "data": {
      "text/html": [
       "<table>\n",
       "<thead>\n",
       "<tr><th>model_id                                               </th><th style=\"text-align: right;\">     auc</th><th style=\"text-align: right;\">  logloss</th><th style=\"text-align: right;\">    aucpr</th><th style=\"text-align: right;\">  mean_per_class_error</th><th style=\"text-align: right;\">    rmse</th><th style=\"text-align: right;\">      mse</th></tr>\n",
       "</thead>\n",
       "<tbody>\n",
       "<tr><td>StackedEnsemble_AllModels_5_AutoML_6_20211020_170123   </td><td style=\"text-align: right;\">0.675452</td><td style=\"text-align: right;\"> 0.196553</td><td style=\"text-align: right;\">0.0865452</td><td style=\"text-align: right;\">              0.369152</td><td style=\"text-align: right;\">0.221361</td><td style=\"text-align: right;\">0.0490008</td></tr>\n",
       "<tr><td>StackedEnsemble_BestOfFamily_3_AutoML_6_20211020_170123</td><td style=\"text-align: right;\">0.675114</td><td style=\"text-align: right;\"> 0.196618</td><td style=\"text-align: right;\">0.0865936</td><td style=\"text-align: right;\">              0.365464</td><td style=\"text-align: right;\">0.22136 </td><td style=\"text-align: right;\">0.0490002</td></tr>\n",
       "<tr><td>StackedEnsemble_BestOfFamily_1_AutoML_6_20211020_170123</td><td style=\"text-align: right;\">0.675078</td><td style=\"text-align: right;\"> 0.196547</td><td style=\"text-align: right;\">0.0874344</td><td style=\"text-align: right;\">              0.387544</td><td style=\"text-align: right;\">0.22134 </td><td style=\"text-align: right;\">0.0489912</td></tr>\n",
       "</tbody>\n",
       "</table>"
      ]
     },
     "metadata": {},
     "output_type": "display_data"
    },
    {
     "data": {
      "text/html": [
       "<table>\n",
       "<thead>\n",
       "<tr><th>model_id                                               </th><th style=\"text-align: right;\">     auc</th><th style=\"text-align: right;\">  logloss</th><th style=\"text-align: right;\">    aucpr</th><th style=\"text-align: right;\">  mean_per_class_error</th><th style=\"text-align: right;\">    rmse</th><th style=\"text-align: right;\">      mse</th></tr>\n",
       "</thead>\n",
       "<tbody>\n",
       "<tr><td>StackedEnsemble_BestOfFamily_4_AutoML_7_20211020_170250</td><td style=\"text-align: right;\">0.680871</td><td style=\"text-align: right;\"> 0.202494</td><td style=\"text-align: right;\">0.089321 </td><td style=\"text-align: right;\">              0.371302</td><td style=\"text-align: right;\">0.226712</td><td style=\"text-align: right;\">0.0513984</td></tr>\n",
       "<tr><td>StackedEnsemble_BestOfFamily_3_AutoML_7_20211020_170250</td><td style=\"text-align: right;\">0.67725 </td><td style=\"text-align: right;\"> 0.202012</td><td style=\"text-align: right;\">0.0894755</td><td style=\"text-align: right;\">              0.331118</td><td style=\"text-align: right;\">0.225906</td><td style=\"text-align: right;\">0.0510334</td></tr>\n",
       "<tr><td>StackedEnsemble_AllModels_5_AutoML_7_20211020_170250   </td><td style=\"text-align: right;\">0.676779</td><td style=\"text-align: right;\"> 0.201796</td><td style=\"text-align: right;\">0.088157 </td><td style=\"text-align: right;\">              0.348985</td><td style=\"text-align: right;\">0.225776</td><td style=\"text-align: right;\">0.0509746</td></tr>\n",
       "</tbody>\n",
       "</table>"
      ]
     },
     "metadata": {},
     "output_type": "display_data"
    },
    {
     "data": {
      "text/html": [
       "<table>\n",
       "<thead>\n",
       "<tr><th>model_id                                               </th><th style=\"text-align: right;\">     auc</th><th style=\"text-align: right;\">  logloss</th><th style=\"text-align: right;\">    aucpr</th><th style=\"text-align: right;\">  mean_per_class_error</th><th style=\"text-align: right;\">    rmse</th><th style=\"text-align: right;\">      mse</th></tr>\n",
       "</thead>\n",
       "<tbody>\n",
       "<tr><td>GBM_grid_1_AutoML_8_20211020_170420_model_1            </td><td style=\"text-align: right;\">0.656767</td><td style=\"text-align: right;\"> 0.206556</td><td style=\"text-align: right;\">0.0889913</td><td style=\"text-align: right;\">              0.397329</td><td style=\"text-align: right;\">0.227281</td><td style=\"text-align: right;\">0.0516567</td></tr>\n",
       "<tr><td>StackedEnsemble_BestOfFamily_6_AutoML_8_20211020_170420</td><td style=\"text-align: right;\">0.655353</td><td style=\"text-align: right;\"> 0.20667 </td><td style=\"text-align: right;\">0.0877881</td><td style=\"text-align: right;\">              0.374942</td><td style=\"text-align: right;\">0.227288</td><td style=\"text-align: right;\">0.0516596</td></tr>\n",
       "<tr><td>StackedEnsemble_BestOfFamily_4_AutoML_8_20211020_170420</td><td style=\"text-align: right;\">0.655206</td><td style=\"text-align: right;\"> 0.206694</td><td style=\"text-align: right;\">0.0878101</td><td style=\"text-align: right;\">              0.388225</td><td style=\"text-align: right;\">0.227329</td><td style=\"text-align: right;\">0.0516784</td></tr>\n",
       "</tbody>\n",
       "</table>"
      ]
     },
     "metadata": {},
     "output_type": "display_data"
    },
    {
     "data": {
      "text/html": [
       "<table>\n",
       "<thead>\n",
       "<tr><th>model_id                                            </th><th style=\"text-align: right;\">     auc</th><th style=\"text-align: right;\">  logloss</th><th style=\"text-align: right;\">    aucpr</th><th style=\"text-align: right;\">  mean_per_class_error</th><th style=\"text-align: right;\">    rmse</th><th style=\"text-align: right;\">      mse</th></tr>\n",
       "</thead>\n",
       "<tbody>\n",
       "<tr><td>StackedEnsemble_AllModels_4_AutoML_9_20211020_170548</td><td style=\"text-align: right;\">0.667158</td><td style=\"text-align: right;\"> 0.204141</td><td style=\"text-align: right;\">0.0907483</td><td style=\"text-align: right;\">              0.386976</td><td style=\"text-align: right;\">0.226134</td><td style=\"text-align: right;\">0.0511368</td></tr>\n",
       "<tr><td>StackedEnsemble_AllModels_2_AutoML_9_20211020_170548</td><td style=\"text-align: right;\">0.650336</td><td style=\"text-align: right;\"> 0.204033</td><td style=\"text-align: right;\">0.0774013</td><td style=\"text-align: right;\">              0.357658</td><td style=\"text-align: right;\">0.225718</td><td style=\"text-align: right;\">0.0509486</td></tr>\n",
       "<tr><td>GBM_5_AutoML_9_20211020_170548                      </td><td style=\"text-align: right;\">0.650117</td><td style=\"text-align: right;\"> 0.205356</td><td style=\"text-align: right;\">0.078352 </td><td style=\"text-align: right;\">              0.358955</td><td style=\"text-align: right;\">0.226762</td><td style=\"text-align: right;\">0.0514208</td></tr>\n",
       "</tbody>\n",
       "</table>"
      ]
     },
     "metadata": {},
     "output_type": "display_data"
    },
    {
     "data": {
      "text/html": [
       "<table>\n",
       "<thead>\n",
       "<tr><th>model_id                                                </th><th style=\"text-align: right;\">     auc</th><th style=\"text-align: right;\">  logloss</th><th style=\"text-align: right;\">   aucpr</th><th style=\"text-align: right;\">  mean_per_class_error</th><th style=\"text-align: right;\">    rmse</th><th style=\"text-align: right;\">     mse</th></tr>\n",
       "</thead>\n",
       "<tbody>\n",
       "<tr><td>StackedEnsemble_BestOfFamily_4_AutoML_10_20211020_170712</td><td style=\"text-align: right;\">0.871575</td><td style=\"text-align: right;\"> 0.336357</td><td style=\"text-align: right;\">0.590959</td><td style=\"text-align: right;\">              0.254104</td><td style=\"text-align: right;\">0.339737</td><td style=\"text-align: right;\">0.115421</td></tr>\n",
       "<tr><td>StackedEnsemble_AllModels_4_AutoML_10_20211020_170712   </td><td style=\"text-align: right;\">0.870537</td><td style=\"text-align: right;\"> 0.33818 </td><td style=\"text-align: right;\">0.583483</td><td style=\"text-align: right;\">              0.24774 </td><td style=\"text-align: right;\">0.340244</td><td style=\"text-align: right;\">0.115766</td></tr>\n",
       "<tr><td>GBM_1_AutoML_10_20211020_170712                         </td><td style=\"text-align: right;\">0.866502</td><td style=\"text-align: right;\"> 0.338508</td><td style=\"text-align: right;\">0.564746</td><td style=\"text-align: right;\">              0.254299</td><td style=\"text-align: right;\">0.341324</td><td style=\"text-align: right;\">0.116502</td></tr>\n",
       "</tbody>\n",
       "</table>"
      ]
     },
     "metadata": {},
     "output_type": "display_data"
    },
    {
     "data": {
      "text/html": [
       "<table>\n",
       "<thead>\n",
       "<tr><th>model_id                                                </th><th style=\"text-align: right;\">     auc</th><th style=\"text-align: right;\">  logloss</th><th style=\"text-align: right;\">   aucpr</th><th style=\"text-align: right;\">  mean_per_class_error</th><th style=\"text-align: right;\">    rmse</th><th style=\"text-align: right;\">     mse</th></tr>\n",
       "</thead>\n",
       "<tbody>\n",
       "<tr><td>StackedEnsemble_AllModels_4_AutoML_11_20211020_170907   </td><td style=\"text-align: right;\">0.796717</td><td style=\"text-align: right;\"> 0.518803</td><td style=\"text-align: right;\">0.660158</td><td style=\"text-align: right;\">              0.244693</td><td style=\"text-align: right;\">0.416996</td><td style=\"text-align: right;\">0.173886</td></tr>\n",
       "<tr><td>StackedEnsemble_BestOfFamily_4_AutoML_11_20211020_170907</td><td style=\"text-align: right;\">0.793396</td><td style=\"text-align: right;\"> 0.519732</td><td style=\"text-align: right;\">0.655371</td><td style=\"text-align: right;\">              0.243185</td><td style=\"text-align: right;\">0.417516</td><td style=\"text-align: right;\">0.17432 </td></tr>\n",
       "<tr><td>GBM_1_AutoML_11_20211020_170907                         </td><td style=\"text-align: right;\">0.790717</td><td style=\"text-align: right;\"> 0.521536</td><td style=\"text-align: right;\">0.652686</td><td style=\"text-align: right;\">              0.243123</td><td style=\"text-align: right;\">0.418342</td><td style=\"text-align: right;\">0.17501 </td></tr>\n",
       "</tbody>\n",
       "</table>"
      ]
     },
     "metadata": {},
     "output_type": "display_data"
    },
    {
     "data": {
      "text/html": [
       "<table>\n",
       "<thead>\n",
       "<tr><th>model_id                                                </th><th style=\"text-align: right;\">     auc</th><th style=\"text-align: right;\">  logloss</th><th style=\"text-align: right;\">    aucpr</th><th style=\"text-align: right;\">  mean_per_class_error</th><th style=\"text-align: right;\">    rmse</th><th style=\"text-align: right;\">      mse</th></tr>\n",
       "</thead>\n",
       "<tbody>\n",
       "<tr><td>GBM_1_AutoML_12_20211020_171048                         </td><td style=\"text-align: right;\">0.668948</td><td style=\"text-align: right;\"> 0.204216</td><td style=\"text-align: right;\">0.0876019</td><td style=\"text-align: right;\">              0.353317</td><td style=\"text-align: right;\">0.226792</td><td style=\"text-align: right;\">0.0514344</td></tr>\n",
       "<tr><td>StackedEnsemble_BestOfFamily_1_AutoML_12_20211020_171048</td><td style=\"text-align: right;\">0.66851 </td><td style=\"text-align: right;\"> 0.204079</td><td style=\"text-align: right;\">0.0868566</td><td style=\"text-align: right;\">              0.353991</td><td style=\"text-align: right;\">0.226616</td><td style=\"text-align: right;\">0.0513547</td></tr>\n",
       "<tr><td>StackedEnsemble_AllModels_3_AutoML_12_20211020_171048   </td><td style=\"text-align: right;\">0.668496</td><td style=\"text-align: right;\"> 0.204073</td><td style=\"text-align: right;\">0.0868062</td><td style=\"text-align: right;\">              0.355988</td><td style=\"text-align: right;\">0.226629</td><td style=\"text-align: right;\">0.0513605</td></tr>\n",
       "</tbody>\n",
       "</table>"
      ]
     },
     "metadata": {},
     "output_type": "display_data"
    },
    {
     "data": {
      "text/html": [
       "<table>\n",
       "<thead>\n",
       "<tr><th>model_id                                                </th><th style=\"text-align: right;\">     auc</th><th style=\"text-align: right;\">  logloss</th><th style=\"text-align: right;\">   aucpr</th><th style=\"text-align: right;\">  mean_per_class_error</th><th style=\"text-align: right;\">    rmse</th><th style=\"text-align: right;\">     mse</th></tr>\n",
       "</thead>\n",
       "<tbody>\n",
       "<tr><td>StackedEnsemble_AllModels_4_AutoML_13_20211020_171216   </td><td style=\"text-align: right;\">0.763499</td><td style=\"text-align: right;\"> 0.496107</td><td style=\"text-align: right;\">0.500751</td><td style=\"text-align: right;\">              0.277454</td><td style=\"text-align: right;\">0.409212</td><td style=\"text-align: right;\">0.167454</td></tr>\n",
       "<tr><td>StackedEnsemble_BestOfFamily_4_AutoML_13_20211020_171216</td><td style=\"text-align: right;\">0.759004</td><td style=\"text-align: right;\"> 0.497672</td><td style=\"text-align: right;\">0.489409</td><td style=\"text-align: right;\">              0.278789</td><td style=\"text-align: right;\">0.410226</td><td style=\"text-align: right;\">0.168286</td></tr>\n",
       "<tr><td>StackedEnsemble_BestOfFamily_5_AutoML_13_20211020_171216</td><td style=\"text-align: right;\">0.757855</td><td style=\"text-align: right;\"> 0.49839 </td><td style=\"text-align: right;\">0.490553</td><td style=\"text-align: right;\">              0.276134</td><td style=\"text-align: right;\">0.410248</td><td style=\"text-align: right;\">0.168303</td></tr>\n",
       "</tbody>\n",
       "</table>"
      ]
     },
     "metadata": {},
     "output_type": "display_data"
    },
    {
     "data": {
      "text/html": [
       "<table>\n",
       "<thead>\n",
       "<tr><th>model_id                                             </th><th style=\"text-align: right;\">     auc</th><th style=\"text-align: right;\">  logloss</th><th style=\"text-align: right;\">   aucpr</th><th style=\"text-align: right;\">  mean_per_class_error</th><th style=\"text-align: right;\">    rmse</th><th style=\"text-align: right;\">     mse</th></tr>\n",
       "</thead>\n",
       "<tbody>\n",
       "<tr><td>StackedEnsemble_AllModels_4_AutoML_14_20211020_171355</td><td style=\"text-align: right;\">0.738922</td><td style=\"text-align: right;\"> 0.503157</td><td style=\"text-align: right;\">0.445306</td><td style=\"text-align: right;\">              0.288104</td><td style=\"text-align: right;\">0.41198 </td><td style=\"text-align: right;\">0.169727</td></tr>\n",
       "<tr><td>GBM_1_AutoML_14_20211020_171355                      </td><td style=\"text-align: right;\">0.738528</td><td style=\"text-align: right;\"> 0.503864</td><td style=\"text-align: right;\">0.443764</td><td style=\"text-align: right;\">              0.286196</td><td style=\"text-align: right;\">0.412059</td><td style=\"text-align: right;\">0.169793</td></tr>\n",
       "<tr><td>StackedEnsemble_AllModels_1_AutoML_14_20211020_171355</td><td style=\"text-align: right;\">0.738367</td><td style=\"text-align: right;\"> 0.503864</td><td style=\"text-align: right;\">0.443559</td><td style=\"text-align: right;\">              0.286215</td><td style=\"text-align: right;\">0.41213 </td><td style=\"text-align: right;\">0.169851</td></tr>\n",
       "</tbody>\n",
       "</table>"
      ]
     },
     "metadata": {},
     "output_type": "display_data"
    },
    {
     "data": {
      "text/html": [
       "<table>\n",
       "<thead>\n",
       "<tr><th>model_id                                                </th><th style=\"text-align: right;\">     auc</th><th style=\"text-align: right;\">  logloss</th><th style=\"text-align: right;\">    aucpr</th><th style=\"text-align: right;\">  mean_per_class_error</th><th style=\"text-align: right;\">    rmse</th><th style=\"text-align: right;\">      mse</th></tr>\n",
       "</thead>\n",
       "<tbody>\n",
       "<tr><td>StackedEnsemble_AllModels_3_AutoML_15_20211020_171534   </td><td style=\"text-align: right;\">0.665429</td><td style=\"text-align: right;\"> 0.206517</td><td style=\"text-align: right;\">0.086981 </td><td style=\"text-align: right;\">              0.368655</td><td style=\"text-align: right;\">0.227948</td><td style=\"text-align: right;\">0.0519605</td></tr>\n",
       "<tr><td>StackedEnsemble_BestOfFamily_3_AutoML_15_20211020_171534</td><td style=\"text-align: right;\">0.665197</td><td style=\"text-align: right;\"> 0.206693</td><td style=\"text-align: right;\">0.0885591</td><td style=\"text-align: right;\">              0.35827 </td><td style=\"text-align: right;\">0.227915</td><td style=\"text-align: right;\">0.0519453</td></tr>\n",
       "<tr><td>StackedEnsemble_BestOfFamily_2_AutoML_15_20211020_171534</td><td style=\"text-align: right;\">0.664923</td><td style=\"text-align: right;\"> 0.20672 </td><td style=\"text-align: right;\">0.0881166</td><td style=\"text-align: right;\">              0.368241</td><td style=\"text-align: right;\">0.227936</td><td style=\"text-align: right;\">0.051955 </td></tr>\n",
       "</tbody>\n",
       "</table>"
      ]
     },
     "metadata": {},
     "output_type": "display_data"
    },
    {
     "data": {
      "text/html": [
       "<table>\n",
       "<thead>\n",
       "<tr><th>model_id                                                </th><th style=\"text-align: right;\">     auc</th><th style=\"text-align: right;\">  logloss</th><th style=\"text-align: right;\">   aucpr</th><th style=\"text-align: right;\">  mean_per_class_error</th><th style=\"text-align: right;\">    rmse</th><th style=\"text-align: right;\">      mse</th></tr>\n",
       "</thead>\n",
       "<tbody>\n",
       "<tr><td>StackedEnsemble_BestOfFamily_4_AutoML_16_20211020_171702</td><td style=\"text-align: right;\">0.836248</td><td style=\"text-align: right;\"> 0.296845</td><td style=\"text-align: right;\">0.367447</td><td style=\"text-align: right;\">              0.270377</td><td style=\"text-align: right;\">0.313462</td><td style=\"text-align: right;\">0.0982583</td></tr>\n",
       "<tr><td>StackedEnsemble_AllModels_4_AutoML_16_20211020_171702   </td><td style=\"text-align: right;\">0.835219</td><td style=\"text-align: right;\"> 0.298261</td><td style=\"text-align: right;\">0.368283</td><td style=\"text-align: right;\">              0.274395</td><td style=\"text-align: right;\">0.313875</td><td style=\"text-align: right;\">0.0985176</td></tr>\n",
       "<tr><td>GBM_1_AutoML_16_20211020_171702                         </td><td style=\"text-align: right;\">0.833964</td><td style=\"text-align: right;\"> 0.297467</td><td style=\"text-align: right;\">0.373898</td><td style=\"text-align: right;\">              0.274915</td><td style=\"text-align: right;\">0.313384</td><td style=\"text-align: right;\">0.0982094</td></tr>\n",
       "</tbody>\n",
       "</table>"
      ]
     },
     "metadata": {},
     "output_type": "display_data"
    },
    {
     "data": {
      "text/html": [
       "<table>\n",
       "<thead>\n",
       "<tr><th>model_id                                             </th><th style=\"text-align: right;\">     auc</th><th style=\"text-align: right;\">  logloss</th><th style=\"text-align: right;\">   aucpr</th><th style=\"text-align: right;\">  mean_per_class_error</th><th style=\"text-align: right;\">    rmse</th><th style=\"text-align: right;\">     mse</th></tr>\n",
       "</thead>\n",
       "<tbody>\n",
       "<tr><td>StackedEnsemble_AllModels_4_AutoML_17_20211020_171855</td><td style=\"text-align: right;\">0.699123</td><td style=\"text-align: right;\"> 0.58128 </td><td style=\"text-align: right;\">0.49816 </td><td style=\"text-align: right;\">              0.341191</td><td style=\"text-align: right;\">0.446683</td><td style=\"text-align: right;\">0.199525</td></tr>\n",
       "<tr><td>StackedEnsemble_AllModels_5_AutoML_17_20211020_171855</td><td style=\"text-align: right;\">0.698929</td><td style=\"text-align: right;\"> 0.580252</td><td style=\"text-align: right;\">0.498837</td><td style=\"text-align: right;\">              0.338144</td><td style=\"text-align: right;\">0.446135</td><td style=\"text-align: right;\">0.199037</td></tr>\n",
       "<tr><td>StackedEnsemble_AllModels_2_AutoML_17_20211020_171855</td><td style=\"text-align: right;\">0.698862</td><td style=\"text-align: right;\"> 0.580225</td><td style=\"text-align: right;\">0.499659</td><td style=\"text-align: right;\">              0.340029</td><td style=\"text-align: right;\">0.446152</td><td style=\"text-align: right;\">0.199051</td></tr>\n",
       "</tbody>\n",
       "</table>"
      ]
     },
     "metadata": {},
     "output_type": "display_data"
    },
    {
     "data": {
      "text/html": [
       "<table>\n",
       "<thead>\n",
       "<tr><th>model_id                                                </th><th style=\"text-align: right;\">     auc</th><th style=\"text-align: right;\">  logloss</th><th style=\"text-align: right;\">   aucpr</th><th style=\"text-align: right;\">  mean_per_class_error</th><th style=\"text-align: right;\">    rmse</th><th style=\"text-align: right;\">     mse</th></tr>\n",
       "</thead>\n",
       "<tbody>\n",
       "<tr><td>StackedEnsemble_AllModels_3_AutoML_18_20211020_172031   </td><td style=\"text-align: right;\">0.801846</td><td style=\"text-align: right;\"> 0.375585</td><td style=\"text-align: right;\">0.412846</td><td style=\"text-align: right;\">              0.261145</td><td style=\"text-align: right;\">0.35129 </td><td style=\"text-align: right;\">0.123405</td></tr>\n",
       "<tr><td>StackedEnsemble_BestOfFamily_4_AutoML_18_20211020_172031</td><td style=\"text-align: right;\">0.801763</td><td style=\"text-align: right;\"> 0.374328</td><td style=\"text-align: right;\">0.420503</td><td style=\"text-align: right;\">              0.24877 </td><td style=\"text-align: right;\">0.350999</td><td style=\"text-align: right;\">0.1232  </td></tr>\n",
       "<tr><td>StackedEnsemble_AllModels_5_AutoML_18_20211020_172031   </td><td style=\"text-align: right;\">0.801746</td><td style=\"text-align: right;\"> 0.37572 </td><td style=\"text-align: right;\">0.412597</td><td style=\"text-align: right;\">              0.244132</td><td style=\"text-align: right;\">0.351211</td><td style=\"text-align: right;\">0.12335 </td></tr>\n",
       "</tbody>\n",
       "</table>"
      ]
     },
     "metadata": {},
     "output_type": "display_data"
    },
    {
     "data": {
      "text/html": [
       "<table>\n",
       "<thead>\n",
       "<tr><th>model_id                                                </th><th style=\"text-align: right;\">     auc</th><th style=\"text-align: right;\">  logloss</th><th style=\"text-align: right;\">   aucpr</th><th style=\"text-align: right;\">  mean_per_class_error</th><th style=\"text-align: right;\">    rmse</th><th style=\"text-align: right;\">      mse</th></tr>\n",
       "</thead>\n",
       "<tbody>\n",
       "<tr><td>StackedEnsemble_BestOfFamily_4_AutoML_19_20211020_172213</td><td style=\"text-align: right;\">0.82983 </td><td style=\"text-align: right;\"> 0.299159</td><td style=\"text-align: right;\">0.353687</td><td style=\"text-align: right;\">              0.284455</td><td style=\"text-align: right;\">0.314689</td><td style=\"text-align: right;\">0.0990291</td></tr>\n",
       "<tr><td>GBM_1_AutoML_19_20211020_172213                         </td><td style=\"text-align: right;\">0.829748</td><td style=\"text-align: right;\"> 0.298569</td><td style=\"text-align: right;\">0.35792 </td><td style=\"text-align: right;\">              0.278671</td><td style=\"text-align: right;\">0.314505</td><td style=\"text-align: right;\">0.0989136</td></tr>\n",
       "<tr><td>StackedEnsemble_BestOfFamily_2_AutoML_19_20211020_172213</td><td style=\"text-align: right;\">0.82967 </td><td style=\"text-align: right;\"> 0.298418</td><td style=\"text-align: right;\">0.357712</td><td style=\"text-align: right;\">              0.277099</td><td style=\"text-align: right;\">0.314333</td><td style=\"text-align: right;\">0.0988054</td></tr>\n",
       "</tbody>\n",
       "</table>"
      ]
     },
     "metadata": {},
     "output_type": "display_data"
    },
    {
     "data": {
      "text/html": [
       "<table>\n",
       "<thead>\n",
       "<tr><th>model_id                                                </th><th style=\"text-align: right;\">     auc</th><th style=\"text-align: right;\">  logloss</th><th style=\"text-align: right;\">   aucpr</th><th style=\"text-align: right;\">  mean_per_class_error</th><th style=\"text-align: right;\">    rmse</th><th style=\"text-align: right;\">      mse</th></tr>\n",
       "</thead>\n",
       "<tbody>\n",
       "<tr><td>StackedEnsemble_BestOfFamily_4_AutoML_20_20211020_172407</td><td style=\"text-align: right;\">0.670097</td><td style=\"text-align: right;\"> 0.310709</td><td style=\"text-align: right;\">0.163669</td><td style=\"text-align: right;\">              0.35195 </td><td style=\"text-align: right;\">0.297227</td><td style=\"text-align: right;\">0.0883438</td></tr>\n",
       "<tr><td>GBM_5_AutoML_20_20211020_172407                         </td><td style=\"text-align: right;\">0.66322 </td><td style=\"text-align: right;\"> 0.311708</td><td style=\"text-align: right;\">0.15398 </td><td style=\"text-align: right;\">              0.346941</td><td style=\"text-align: right;\">0.297675</td><td style=\"text-align: right;\">0.0886105</td></tr>\n",
       "<tr><td>StackedEnsemble_AllModels_4_AutoML_20_20211020_172407   </td><td style=\"text-align: right;\">0.662173</td><td style=\"text-align: right;\"> 0.311875</td><td style=\"text-align: right;\">0.158735</td><td style=\"text-align: right;\">              0.34976 </td><td style=\"text-align: right;\">0.297688</td><td style=\"text-align: right;\">0.0886182</td></tr>\n",
       "</tbody>\n",
       "</table>"
      ]
     },
     "metadata": {},
     "output_type": "display_data"
    },
    {
     "data": {
      "text/html": [
       "<table>\n",
       "<thead>\n",
       "<tr><th>model_id                                             </th><th style=\"text-align: right;\">     auc</th><th style=\"text-align: right;\">  logloss</th><th style=\"text-align: right;\">   aucpr</th><th style=\"text-align: right;\">  mean_per_class_error</th><th style=\"text-align: right;\">    rmse</th><th style=\"text-align: right;\">     mse</th></tr>\n",
       "</thead>\n",
       "<tbody>\n",
       "<tr><td>StackedEnsemble_AllModels_4_AutoML_21_20211020_172536</td><td style=\"text-align: right;\">0.566344</td><td style=\"text-align: right;\"> 0.568994</td><td style=\"text-align: right;\">0.302563</td><td style=\"text-align: right;\">              0.451012</td><td style=\"text-align: right;\">0.436904</td><td style=\"text-align: right;\">0.190885</td></tr>\n",
       "<tr><td>StackedEnsemble_AllModels_3_AutoML_21_20211020_172536</td><td style=\"text-align: right;\">0.565421</td><td style=\"text-align: right;\"> 0.56779 </td><td style=\"text-align: right;\">0.291932</td><td style=\"text-align: right;\">              0.450356</td><td style=\"text-align: right;\">0.436485</td><td style=\"text-align: right;\">0.190519</td></tr>\n",
       "<tr><td>StackedEnsemble_AllModels_5_AutoML_21_20211020_172536</td><td style=\"text-align: right;\">0.564896</td><td style=\"text-align: right;\"> 0.568034</td><td style=\"text-align: right;\">0.291744</td><td style=\"text-align: right;\">              0.454528</td><td style=\"text-align: right;\">0.436556</td><td style=\"text-align: right;\">0.190582</td></tr>\n",
       "</tbody>\n",
       "</table>"
      ]
     },
     "metadata": {},
     "output_type": "display_data"
    },
    {
     "data": {
      "text/html": [
       "<table>\n",
       "<thead>\n",
       "<tr><th>model_id                                             </th><th style=\"text-align: right;\">     auc</th><th style=\"text-align: right;\">  logloss</th><th style=\"text-align: right;\">   aucpr</th><th style=\"text-align: right;\">  mean_per_class_error</th><th style=\"text-align: right;\">    rmse</th><th style=\"text-align: right;\">      mse</th></tr>\n",
       "</thead>\n",
       "<tbody>\n",
       "<tr><td>StackedEnsemble_AllModels_4_AutoML_22_20211020_172656</td><td style=\"text-align: right;\">0.839596</td><td style=\"text-align: right;\"> 0.294366</td><td style=\"text-align: right;\">0.368442</td><td style=\"text-align: right;\">              0.268839</td><td style=\"text-align: right;\">0.31142 </td><td style=\"text-align: right;\">0.0969823</td></tr>\n",
       "<tr><td>GBM_grid_1_AutoML_22_20211020_172656_model_1         </td><td style=\"text-align: right;\">0.832877</td><td style=\"text-align: right;\"> 0.302895</td><td style=\"text-align: right;\">0.356118</td><td style=\"text-align: right;\">              0.273158</td><td style=\"text-align: right;\">0.312633</td><td style=\"text-align: right;\">0.0977393</td></tr>\n",
       "<tr><td>GBM_5_AutoML_22_20211020_172656                      </td><td style=\"text-align: right;\">0.832639</td><td style=\"text-align: right;\"> 0.298063</td><td style=\"text-align: right;\">0.358019</td><td style=\"text-align: right;\">              0.272906</td><td style=\"text-align: right;\">0.313547</td><td style=\"text-align: right;\">0.0983115</td></tr>\n",
       "</tbody>\n",
       "</table>"
      ]
     },
     "metadata": {},
     "output_type": "display_data"
    },
    {
     "data": {
      "text/html": [
       "<table>\n",
       "<thead>\n",
       "<tr><th>model_id                                                </th><th style=\"text-align: right;\">     auc</th><th style=\"text-align: right;\">  logloss</th><th style=\"text-align: right;\">    aucpr</th><th style=\"text-align: right;\">  mean_per_class_error</th><th style=\"text-align: right;\">    rmse</th><th style=\"text-align: right;\">      mse</th></tr>\n",
       "</thead>\n",
       "<tbody>\n",
       "<tr><td>StackedEnsemble_BestOfFamily_2_AutoML_23_20211020_172854</td><td style=\"text-align: right;\">0.667574</td><td style=\"text-align: right;\"> 0.208244</td><td style=\"text-align: right;\">0.0931197</td><td style=\"text-align: right;\">              0.359286</td><td style=\"text-align: right;\">0.229355</td><td style=\"text-align: right;\">0.0526037</td></tr>\n",
       "<tr><td>StackedEnsemble_BestOfFamily_5_AutoML_23_20211020_172854</td><td style=\"text-align: right;\">0.667197</td><td style=\"text-align: right;\"> 0.208265</td><td style=\"text-align: right;\">0.0916365</td><td style=\"text-align: right;\">              0.363668</td><td style=\"text-align: right;\">0.22937 </td><td style=\"text-align: right;\">0.0526106</td></tr>\n",
       "<tr><td>StackedEnsemble_AllModels_1_AutoML_23_20211020_172854   </td><td style=\"text-align: right;\">0.666515</td><td style=\"text-align: right;\"> 0.208443</td><td style=\"text-align: right;\">0.092004 </td><td style=\"text-align: right;\">              0.362514</td><td style=\"text-align: right;\">0.229422</td><td style=\"text-align: right;\">0.0526344</td></tr>\n",
       "</tbody>\n",
       "</table>"
      ]
     },
     "metadata": {},
     "output_type": "display_data"
    },
    {
     "data": {
      "text/html": [
       "<table>\n",
       "<thead>\n",
       "<tr><th>model_id                                             </th><th style=\"text-align: right;\">     auc</th><th style=\"text-align: right;\">  logloss</th><th style=\"text-align: right;\">    aucpr</th><th style=\"text-align: right;\">  mean_per_class_error</th><th style=\"text-align: right;\">    rmse</th><th style=\"text-align: right;\">      mse</th></tr>\n",
       "</thead>\n",
       "<tbody>\n",
       "<tr><td>GBM_5_AutoML_24_20211020_173021                      </td><td style=\"text-align: right;\">0.669876</td><td style=\"text-align: right;\"> 0.204758</td><td style=\"text-align: right;\">0.0862959</td><td style=\"text-align: right;\">              0.357369</td><td style=\"text-align: right;\">0.22745 </td><td style=\"text-align: right;\">0.0517335</td></tr>\n",
       "<tr><td>GBM_2_AutoML_24_20211020_173021                      </td><td style=\"text-align: right;\">0.669374</td><td style=\"text-align: right;\"> 0.205505</td><td style=\"text-align: right;\">0.088373 </td><td style=\"text-align: right;\">              0.415478</td><td style=\"text-align: right;\">0.227369</td><td style=\"text-align: right;\">0.0516964</td></tr>\n",
       "<tr><td>StackedEnsemble_AllModels_5_AutoML_24_20211020_173021</td><td style=\"text-align: right;\">0.669344</td><td style=\"text-align: right;\"> 0.203919</td><td style=\"text-align: right;\">0.0858898</td><td style=\"text-align: right;\">              0.34633 </td><td style=\"text-align: right;\">0.226452</td><td style=\"text-align: right;\">0.0512806</td></tr>\n",
       "</tbody>\n",
       "</table>"
      ]
     },
     "metadata": {},
     "output_type": "display_data"
    },
    {
     "data": {
      "text/html": [
       "<table>\n",
       "<thead>\n",
       "<tr><th>model_id                                                </th><th style=\"text-align: right;\">     auc</th><th style=\"text-align: right;\">  logloss</th><th style=\"text-align: right;\">    aucpr</th><th style=\"text-align: right;\">  mean_per_class_error</th><th style=\"text-align: right;\">    rmse</th><th style=\"text-align: right;\">      mse</th></tr>\n",
       "</thead>\n",
       "<tbody>\n",
       "<tr><td>StackedEnsemble_AllModels_4_AutoML_25_20211020_173148   </td><td style=\"text-align: right;\">0.676924</td><td style=\"text-align: right;\"> 0.200376</td><td style=\"text-align: right;\">0.0909542</td><td style=\"text-align: right;\">              0.363655</td><td style=\"text-align: right;\">0.224348</td><td style=\"text-align: right;\">0.0503322</td></tr>\n",
       "<tr><td>StackedEnsemble_BestOfFamily_2_AutoML_25_20211020_173148</td><td style=\"text-align: right;\">0.674107</td><td style=\"text-align: right;\"> 0.200184</td><td style=\"text-align: right;\">0.0853749</td><td style=\"text-align: right;\">              0.381395</td><td style=\"text-align: right;\">0.223746</td><td style=\"text-align: right;\">0.0500621</td></tr>\n",
       "<tr><td>StackedEnsemble_BestOfFamily_3_AutoML_25_20211020_173148</td><td style=\"text-align: right;\">0.671464</td><td style=\"text-align: right;\"> 0.200272</td><td style=\"text-align: right;\">0.0849405</td><td style=\"text-align: right;\">              0.380679</td><td style=\"text-align: right;\">0.223766</td><td style=\"text-align: right;\">0.0500712</td></tr>\n",
       "</tbody>\n",
       "</table>"
      ]
     },
     "metadata": {},
     "output_type": "display_data"
    },
    {
     "data": {
      "text/html": [
       "<table>\n",
       "<thead>\n",
       "<tr><th>model_id                                                </th><th style=\"text-align: right;\">     auc</th><th style=\"text-align: right;\">  logloss</th><th style=\"text-align: right;\">   aucpr</th><th style=\"text-align: right;\">  mean_per_class_error</th><th style=\"text-align: right;\">    rmse</th><th style=\"text-align: right;\">     mse</th></tr>\n",
       "</thead>\n",
       "<tbody>\n",
       "<tr><td>StackedEnsemble_AllModels_4_AutoML_26_20211020_173318   </td><td style=\"text-align: right;\">0.838683</td><td style=\"text-align: right;\"> 0.303379</td><td style=\"text-align: right;\">0.383724</td><td style=\"text-align: right;\">              0.270012</td><td style=\"text-align: right;\">0.317321</td><td style=\"text-align: right;\">0.100693</td></tr>\n",
       "<tr><td>StackedEnsemble_BestOfFamily_4_AutoML_26_20211020_173318</td><td style=\"text-align: right;\">0.836002</td><td style=\"text-align: right;\"> 0.303644</td><td style=\"text-align: right;\">0.374258</td><td style=\"text-align: right;\">              0.27318 </td><td style=\"text-align: right;\">0.317988</td><td style=\"text-align: right;\">0.101116</td></tr>\n",
       "<tr><td>StackedEnsemble_AllModels_3_AutoML_26_20211020_173318   </td><td style=\"text-align: right;\">0.835431</td><td style=\"text-align: right;\"> 0.302936</td><td style=\"text-align: right;\">0.379406</td><td style=\"text-align: right;\">              0.276469</td><td style=\"text-align: right;\">0.317575</td><td style=\"text-align: right;\">0.100854</td></tr>\n",
       "</tbody>\n",
       "</table>"
      ]
     },
     "metadata": {},
     "output_type": "display_data"
    },
    {
     "data": {
      "text/html": [
       "<table>\n",
       "<thead>\n",
       "<tr><th>model_id                                                </th><th style=\"text-align: right;\">     auc</th><th style=\"text-align: right;\">  logloss</th><th style=\"text-align: right;\">    aucpr</th><th style=\"text-align: right;\">  mean_per_class_error</th><th style=\"text-align: right;\">    rmse</th><th style=\"text-align: right;\">      mse</th></tr>\n",
       "</thead>\n",
       "<tbody>\n",
       "<tr><td>StackedEnsemble_BestOfFamily_4_AutoML_27_20211020_173508</td><td style=\"text-align: right;\">0.669739</td><td style=\"text-align: right;\"> 0.197733</td><td style=\"text-align: right;\">0.0861429</td><td style=\"text-align: right;\">              0.368437</td><td style=\"text-align: right;\">0.221959</td><td style=\"text-align: right;\">0.0492658</td></tr>\n",
       "<tr><td>StackedEnsemble_AllModels_4_AutoML_27_20211020_173508   </td><td style=\"text-align: right;\">0.668533</td><td style=\"text-align: right;\"> 0.198234</td><td style=\"text-align: right;\">0.0858337</td><td style=\"text-align: right;\">              0.382553</td><td style=\"text-align: right;\">0.222279</td><td style=\"text-align: right;\">0.0494079</td></tr>\n",
       "<tr><td>GBM_5_AutoML_27_20211020_173508                         </td><td style=\"text-align: right;\">0.667983</td><td style=\"text-align: right;\"> 0.198268</td><td style=\"text-align: right;\">0.0805757</td><td style=\"text-align: right;\">              0.396693</td><td style=\"text-align: right;\">0.222562</td><td style=\"text-align: right;\">0.049534 </td></tr>\n",
       "</tbody>\n",
       "</table>"
      ]
     },
     "metadata": {},
     "output_type": "display_data"
    },
    {
     "data": {
      "text/html": [
       "<table>\n",
       "<thead>\n",
       "<tr><th>model_id                                                </th><th style=\"text-align: right;\">     auc</th><th style=\"text-align: right;\">  logloss</th><th style=\"text-align: right;\">   aucpr</th><th style=\"text-align: right;\">  mean_per_class_error</th><th style=\"text-align: right;\">    rmse</th><th style=\"text-align: right;\">      mse</th></tr>\n",
       "</thead>\n",
       "<tbody>\n",
       "<tr><td>StackedEnsemble_AllModels_4_AutoML_28_20211020_173635   </td><td style=\"text-align: right;\">0.832426</td><td style=\"text-align: right;\"> 0.299314</td><td style=\"text-align: right;\">0.375187</td><td style=\"text-align: right;\">              0.284069</td><td style=\"text-align: right;\">0.314194</td><td style=\"text-align: right;\">0.0987177</td></tr>\n",
       "<tr><td>GBM_grid_1_AutoML_28_20211020_173635_model_1            </td><td style=\"text-align: right;\">0.829011</td><td style=\"text-align: right;\"> 0.307042</td><td style=\"text-align: right;\">0.355531</td><td style=\"text-align: right;\">              0.279926</td><td style=\"text-align: right;\">0.315434</td><td style=\"text-align: right;\">0.0994985</td></tr>\n",
       "<tr><td>StackedEnsemble_BestOfFamily_2_AutoML_28_20211020_173635</td><td style=\"text-align: right;\">0.827757</td><td style=\"text-align: right;\"> 0.300153</td><td style=\"text-align: right;\">0.349387</td><td style=\"text-align: right;\">              0.284665</td><td style=\"text-align: right;\">0.315534</td><td style=\"text-align: right;\">0.0995615</td></tr>\n",
       "</tbody>\n",
       "</table>"
      ]
     },
     "metadata": {},
     "output_type": "display_data"
    },
    {
     "data": {
      "text/html": [
       "<table>\n",
       "<thead>\n",
       "<tr><th>model_id                                                </th><th style=\"text-align: right;\">     auc</th><th style=\"text-align: right;\">  logloss</th><th style=\"text-align: right;\">   aucpr</th><th style=\"text-align: right;\">  mean_per_class_error</th><th style=\"text-align: right;\">    rmse</th><th style=\"text-align: right;\">     mse</th></tr>\n",
       "</thead>\n",
       "<tbody>\n",
       "<tr><td>GBM_1_AutoML_29_20211020_173827                         </td><td style=\"text-align: right;\">0.805828</td><td style=\"text-align: right;\"> 0.377605</td><td style=\"text-align: right;\">0.417345</td><td style=\"text-align: right;\">              0.242145</td><td style=\"text-align: right;\">0.352537</td><td style=\"text-align: right;\">0.124282</td></tr>\n",
       "<tr><td>StackedEnsemble_BestOfFamily_2_AutoML_29_20211020_173827</td><td style=\"text-align: right;\">0.805673</td><td style=\"text-align: right;\"> 0.377716</td><td style=\"text-align: right;\">0.416445</td><td style=\"text-align: right;\">              0.242505</td><td style=\"text-align: right;\">0.352619</td><td style=\"text-align: right;\">0.12434 </td></tr>\n",
       "<tr><td>StackedEnsemble_BestOfFamily_1_AutoML_29_20211020_173827</td><td style=\"text-align: right;\">0.805601</td><td style=\"text-align: right;\"> 0.377674</td><td style=\"text-align: right;\">0.41696 </td><td style=\"text-align: right;\">              0.241962</td><td style=\"text-align: right;\">0.352592</td><td style=\"text-align: right;\">0.124321</td></tr>\n",
       "</tbody>\n",
       "</table>"
      ]
     },
     "metadata": {},
     "output_type": "display_data"
    },
    {
     "data": {
      "text/plain": [
       "[, , , , , , , , , , , , , , , , , , , , , , , , , , , , ]"
      ]
     },
     "execution_count": 6,
     "metadata": {},
     "output_type": "execute_result"
    }
   ],
   "source": [
    "l"
   ]
  }
 ],
 "metadata": {
  "kernelspec": {
   "display_name": "Python 3",
   "language": "python",
   "name": "python3"
  },
  "language_info": {
   "codemirror_mode": {
    "name": "ipython",
    "version": 3
   },
   "file_extension": ".py",
   "mimetype": "text/x-python",
   "name": "python",
   "nbconvert_exporter": "python",
   "pygments_lexer": "ipython3",
   "version": "3.9.1"
  }
 },
 "nbformat": 4,
 "nbformat_minor": 5
}
